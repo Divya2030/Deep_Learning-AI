{
 "cells": [
  {
   "cell_type": "code",
   "execution_count": 1,
   "id": "a7cae174",
   "metadata": {
    "id": "a7cae174",
    "outputId": "bb7d22e8-f26d-47f9-a17b-8211e53b9b90"
   },
   "outputs": [
    {
     "name": "stdout",
     "output_type": "stream",
     "text": [
      "Requirement already satisfied: tensorflow_text in /Users/Bobbie/Downloads/Anaconda/anaconda3/lib/python3.9/site-packages (2.10.0)\n",
      "Requirement already satisfied: tensorflow<2.11,>=2.10.0 in /Users/Bobbie/Downloads/Anaconda/anaconda3/lib/python3.9/site-packages (from tensorflow_text) (2.10.0)\n",
      "Requirement already satisfied: tensorflow-hub>=0.8.0 in /Users/Bobbie/Downloads/Anaconda/anaconda3/lib/python3.9/site-packages (from tensorflow_text) (0.12.0)\n",
      "Requirement already satisfied: gast<=0.4.0,>=0.2.1 in /Users/Bobbie/Downloads/Anaconda/anaconda3/lib/python3.9/site-packages (from tensorflow<2.11,>=2.10.0->tensorflow_text) (0.4.0)\n",
      "Requirement already satisfied: opt-einsum>=2.3.2 in /Users/Bobbie/Downloads/Anaconda/anaconda3/lib/python3.9/site-packages (from tensorflow<2.11,>=2.10.0->tensorflow_text) (3.3.0)\n",
      "Requirement already satisfied: typing-extensions>=3.6.6 in /Users/Bobbie/Downloads/Anaconda/anaconda3/lib/python3.9/site-packages (from tensorflow<2.11,>=2.10.0->tensorflow_text) (4.1.1)\n",
      "Requirement already satisfied: astunparse>=1.6.0 in /Users/Bobbie/Downloads/Anaconda/anaconda3/lib/python3.9/site-packages (from tensorflow<2.11,>=2.10.0->tensorflow_text) (1.6.3)\n",
      "Requirement already satisfied: google-pasta>=0.1.1 in /Users/Bobbie/Downloads/Anaconda/anaconda3/lib/python3.9/site-packages (from tensorflow<2.11,>=2.10.0->tensorflow_text) (0.2.0)\n",
      "Requirement already satisfied: packaging in /Users/Bobbie/Downloads/Anaconda/anaconda3/lib/python3.9/site-packages (from tensorflow<2.11,>=2.10.0->tensorflow_text) (21.3)\n",
      "Requirement already satisfied: flatbuffers>=2.0 in /Users/Bobbie/Downloads/Anaconda/anaconda3/lib/python3.9/site-packages (from tensorflow<2.11,>=2.10.0->tensorflow_text) (2.0.7)\n",
      "Requirement already satisfied: keras-preprocessing>=1.1.1 in /Users/Bobbie/Downloads/Anaconda/anaconda3/lib/python3.9/site-packages (from tensorflow<2.11,>=2.10.0->tensorflow_text) (1.1.2)\n",
      "Requirement already satisfied: wrapt>=1.11.0 in /Users/Bobbie/Downloads/Anaconda/anaconda3/lib/python3.9/site-packages (from tensorflow<2.11,>=2.10.0->tensorflow_text) (1.12.1)\n",
      "Requirement already satisfied: h5py>=2.9.0 in /Users/Bobbie/Downloads/Anaconda/anaconda3/lib/python3.9/site-packages (from tensorflow<2.11,>=2.10.0->tensorflow_text) (3.6.0)\n",
      "Requirement already satisfied: numpy>=1.20 in /Users/Bobbie/Downloads/Anaconda/anaconda3/lib/python3.9/site-packages (from tensorflow<2.11,>=2.10.0->tensorflow_text) (1.21.5)\n",
      "Requirement already satisfied: tensorflow-io-gcs-filesystem>=0.23.1 in /Users/Bobbie/Downloads/Anaconda/anaconda3/lib/python3.9/site-packages (from tensorflow<2.11,>=2.10.0->tensorflow_text) (0.27.0)\n",
      "Requirement already satisfied: libclang>=13.0.0 in /Users/Bobbie/Downloads/Anaconda/anaconda3/lib/python3.9/site-packages (from tensorflow<2.11,>=2.10.0->tensorflow_text) (14.0.6)\n",
      "Requirement already satisfied: six>=1.12.0 in /Users/Bobbie/Downloads/Anaconda/anaconda3/lib/python3.9/site-packages (from tensorflow<2.11,>=2.10.0->tensorflow_text) (1.16.0)\n",
      "Requirement already satisfied: tensorboard<2.11,>=2.10 in /Users/Bobbie/Downloads/Anaconda/anaconda3/lib/python3.9/site-packages (from tensorflow<2.11,>=2.10.0->tensorflow_text) (2.10.0)\n",
      "Requirement already satisfied: termcolor>=1.1.0 in /Users/Bobbie/Downloads/Anaconda/anaconda3/lib/python3.9/site-packages (from tensorflow<2.11,>=2.10.0->tensorflow_text) (2.0.1)\n",
      "Requirement already satisfied: setuptools in /Users/Bobbie/Downloads/Anaconda/anaconda3/lib/python3.9/site-packages (from tensorflow<2.11,>=2.10.0->tensorflow_text) (61.2.0)\n",
      "Requirement already satisfied: keras<2.11,>=2.10.0 in /Users/Bobbie/Downloads/Anaconda/anaconda3/lib/python3.9/site-packages (from tensorflow<2.11,>=2.10.0->tensorflow_text) (2.10.0)\n",
      "Requirement already satisfied: absl-py>=1.0.0 in /Users/Bobbie/Downloads/Anaconda/anaconda3/lib/python3.9/site-packages (from tensorflow<2.11,>=2.10.0->tensorflow_text) (1.2.0)\n",
      "Requirement already satisfied: tensorflow-estimator<2.11,>=2.10.0 in /Users/Bobbie/Downloads/Anaconda/anaconda3/lib/python3.9/site-packages (from tensorflow<2.11,>=2.10.0->tensorflow_text) (2.10.0)\n",
      "Requirement already satisfied: grpcio<2.0,>=1.24.3 in /Users/Bobbie/Downloads/Anaconda/anaconda3/lib/python3.9/site-packages (from tensorflow<2.11,>=2.10.0->tensorflow_text) (1.42.0)\n",
      "Requirement already satisfied: protobuf<3.20,>=3.9.2 in /Users/Bobbie/Downloads/Anaconda/anaconda3/lib/python3.9/site-packages (from tensorflow<2.11,>=2.10.0->tensorflow_text) (3.19.1)\n",
      "Requirement already satisfied: wheel<1.0,>=0.23.0 in /Users/Bobbie/Downloads/Anaconda/anaconda3/lib/python3.9/site-packages (from astunparse>=1.6.0->tensorflow<2.11,>=2.10.0->tensorflow_text) (0.37.1)\n",
      "Requirement already satisfied: google-auth<3,>=1.6.3 in /Users/Bobbie/Downloads/Anaconda/anaconda3/lib/python3.9/site-packages (from tensorboard<2.11,>=2.10->tensorflow<2.11,>=2.10.0->tensorflow_text) (1.33.0)\n",
      "Requirement already satisfied: requests<3,>=2.21.0 in /Users/Bobbie/Downloads/Anaconda/anaconda3/lib/python3.9/site-packages (from tensorboard<2.11,>=2.10->tensorflow<2.11,>=2.10.0->tensorflow_text) (2.27.1)\n",
      "Requirement already satisfied: tensorboard-plugin-wit>=1.6.0 in /Users/Bobbie/Downloads/Anaconda/anaconda3/lib/python3.9/site-packages (from tensorboard<2.11,>=2.10->tensorflow<2.11,>=2.10.0->tensorflow_text) (1.8.1)\n",
      "Requirement already satisfied: tensorboard-data-server<0.7.0,>=0.6.0 in /Users/Bobbie/Downloads/Anaconda/anaconda3/lib/python3.9/site-packages (from tensorboard<2.11,>=2.10->tensorflow<2.11,>=2.10.0->tensorflow_text) (0.6.1)\n",
      "Requirement already satisfied: markdown>=2.6.8 in /Users/Bobbie/Downloads/Anaconda/anaconda3/lib/python3.9/site-packages (from tensorboard<2.11,>=2.10->tensorflow<2.11,>=2.10.0->tensorflow_text) (3.3.4)\n",
      "Requirement already satisfied: werkzeug>=1.0.1 in /Users/Bobbie/Downloads/Anaconda/anaconda3/lib/python3.9/site-packages (from tensorboard<2.11,>=2.10->tensorflow<2.11,>=2.10.0->tensorflow_text) (2.0.3)\n",
      "Requirement already satisfied: google-auth-oauthlib<0.5,>=0.4.1 in /Users/Bobbie/Downloads/Anaconda/anaconda3/lib/python3.9/site-packages (from tensorboard<2.11,>=2.10->tensorflow<2.11,>=2.10.0->tensorflow_text) (0.4.6)\n",
      "Requirement already satisfied: rsa<5,>=3.1.4 in /Users/Bobbie/Downloads/Anaconda/anaconda3/lib/python3.9/site-packages (from google-auth<3,>=1.6.3->tensorboard<2.11,>=2.10->tensorflow<2.11,>=2.10.0->tensorflow_text) (4.7.2)\n",
      "Requirement already satisfied: cachetools<5.0,>=2.0.0 in /Users/Bobbie/Downloads/Anaconda/anaconda3/lib/python3.9/site-packages (from google-auth<3,>=1.6.3->tensorboard<2.11,>=2.10->tensorflow<2.11,>=2.10.0->tensorflow_text) (4.2.2)\n",
      "Requirement already satisfied: pyasn1-modules>=0.2.1 in /Users/Bobbie/Downloads/Anaconda/anaconda3/lib/python3.9/site-packages (from google-auth<3,>=1.6.3->tensorboard<2.11,>=2.10->tensorflow<2.11,>=2.10.0->tensorflow_text) (0.2.8)\n",
      "Requirement already satisfied: requests-oauthlib>=0.7.0 in /Users/Bobbie/Downloads/Anaconda/anaconda3/lib/python3.9/site-packages (from google-auth-oauthlib<0.5,>=0.4.1->tensorboard<2.11,>=2.10->tensorflow<2.11,>=2.10.0->tensorflow_text) (1.3.1)\n",
      "Requirement already satisfied: pyasn1<0.5.0,>=0.4.6 in /Users/Bobbie/Downloads/Anaconda/anaconda3/lib/python3.9/site-packages (from pyasn1-modules>=0.2.1->google-auth<3,>=1.6.3->tensorboard<2.11,>=2.10->tensorflow<2.11,>=2.10.0->tensorflow_text) (0.4.8)\n",
      "Requirement already satisfied: urllib3<1.27,>=1.21.1 in /Users/Bobbie/Downloads/Anaconda/anaconda3/lib/python3.9/site-packages (from requests<3,>=2.21.0->tensorboard<2.11,>=2.10->tensorflow<2.11,>=2.10.0->tensorflow_text) (1.26.9)\n",
      "Requirement already satisfied: charset-normalizer~=2.0.0 in /Users/Bobbie/Downloads/Anaconda/anaconda3/lib/python3.9/site-packages (from requests<3,>=2.21.0->tensorboard<2.11,>=2.10->tensorflow<2.11,>=2.10.0->tensorflow_text) (2.0.4)\n",
      "Requirement already satisfied: idna<4,>=2.5 in /Users/Bobbie/Downloads/Anaconda/anaconda3/lib/python3.9/site-packages (from requests<3,>=2.21.0->tensorboard<2.11,>=2.10->tensorflow<2.11,>=2.10.0->tensorflow_text) (3.3)\n",
      "Requirement already satisfied: certifi>=2017.4.17 in /Users/Bobbie/Downloads/Anaconda/anaconda3/lib/python3.9/site-packages (from requests<3,>=2.21.0->tensorboard<2.11,>=2.10->tensorflow<2.11,>=2.10.0->tensorflow_text) (2021.10.8)\n"
     ]
    },
    {
     "name": "stdout",
     "output_type": "stream",
     "text": [
      "Requirement already satisfied: oauthlib>=3.0.0 in /Users/Bobbie/Downloads/Anaconda/anaconda3/lib/python3.9/site-packages (from requests-oauthlib>=0.7.0->google-auth-oauthlib<0.5,>=0.4.1->tensorboard<2.11,>=2.10->tensorflow<2.11,>=2.10.0->tensorflow_text) (3.2.1)\n",
      "Requirement already satisfied: pyparsing!=3.0.5,>=2.0.2 in /Users/Bobbie/Downloads/Anaconda/anaconda3/lib/python3.9/site-packages (from packaging->tensorflow<2.11,>=2.10.0->tensorflow_text) (3.0.4)\n"
     ]
    }
   ],
   "source": [
    "!pip install tensorflow_text"
   ]
  },
  {
   "cell_type": "code",
   "execution_count": 2,
   "id": "f9cfccc1",
   "metadata": {
    "id": "f9cfccc1"
   },
   "outputs": [
    {
     "name": "stderr",
     "output_type": "stream",
     "text": [
      "2022-09-15 03:51:08.980640: I tensorflow/core/platform/cpu_feature_guard.cc:193] This TensorFlow binary is optimized with oneAPI Deep Neural Network Library (oneDNN) to use the following CPU instructions in performance-critical operations:  AVX2 FMA\n",
      "To enable them in other operations, rebuild TensorFlow with the appropriate compiler flags.\n"
     ]
    }
   ],
   "source": [
    "import tensorflow as tf\n",
    "from tensorflow import keras\n",
    "from tensorflow.keras import layers\n",
    "import tensorflow_hub as hub\n",
    "import tensorflow_text as text\n",
    "import pandas as pd\n",
    "import numpy as np"
   ]
  },
  {
   "cell_type": "code",
   "execution_count": 3,
   "id": "d047f348",
   "metadata": {
    "id": "d047f348"
   },
   "outputs": [],
   "source": [
    "dataFrame= pd.read_json('/Users/Bobbie/Downloads/amazon_review/reviews_Automotive_5.json',lines=True)"
   ]
  },
  {
   "cell_type": "code",
   "execution_count": 4,
   "id": "87c8a14d",
   "metadata": {
    "id": "87c8a14d",
    "outputId": "30361429-875f-47fa-ea3c-e9b82f93eca6"
   },
   "outputs": [
    {
     "data": {
      "text/html": [
       "<div>\n",
       "<style scoped>\n",
       "    .dataframe tbody tr th:only-of-type {\n",
       "        vertical-align: middle;\n",
       "    }\n",
       "\n",
       "    .dataframe tbody tr th {\n",
       "        vertical-align: top;\n",
       "    }\n",
       "\n",
       "    .dataframe thead th {\n",
       "        text-align: right;\n",
       "    }\n",
       "</style>\n",
       "<table border=\"1\" class=\"dataframe\">\n",
       "  <thead>\n",
       "    <tr style=\"text-align: right;\">\n",
       "      <th></th>\n",
       "      <th>reviewerID</th>\n",
       "      <th>asin</th>\n",
       "      <th>reviewerName</th>\n",
       "      <th>helpful</th>\n",
       "      <th>reviewText</th>\n",
       "      <th>overall</th>\n",
       "      <th>summary</th>\n",
       "      <th>unixReviewTime</th>\n",
       "      <th>reviewTime</th>\n",
       "    </tr>\n",
       "  </thead>\n",
       "  <tbody>\n",
       "    <tr>\n",
       "      <th>0</th>\n",
       "      <td>A3F73SC1LY51OO</td>\n",
       "      <td>B00002243X</td>\n",
       "      <td>Alan Montgomery</td>\n",
       "      <td>[4, 4]</td>\n",
       "      <td>I needed a set of jumper cables for my new car...</td>\n",
       "      <td>5</td>\n",
       "      <td>Work Well - Should Have Bought Longer Ones</td>\n",
       "      <td>1313539200</td>\n",
       "      <td>08 17, 2011</td>\n",
       "    </tr>\n",
       "    <tr>\n",
       "      <th>1</th>\n",
       "      <td>A20S66SKYXULG2</td>\n",
       "      <td>B00002243X</td>\n",
       "      <td>alphonse</td>\n",
       "      <td>[1, 1]</td>\n",
       "      <td>These long cables work fine for my truck, but ...</td>\n",
       "      <td>4</td>\n",
       "      <td>Okay long cables</td>\n",
       "      <td>1315094400</td>\n",
       "      <td>09 4, 2011</td>\n",
       "    </tr>\n",
       "    <tr>\n",
       "      <th>2</th>\n",
       "      <td>A2I8LFSN2IS5EO</td>\n",
       "      <td>B00002243X</td>\n",
       "      <td>Chris</td>\n",
       "      <td>[0, 0]</td>\n",
       "      <td>Can't comment much on these since they have no...</td>\n",
       "      <td>5</td>\n",
       "      <td>Looks and feels heavy Duty</td>\n",
       "      <td>1374710400</td>\n",
       "      <td>07 25, 2013</td>\n",
       "    </tr>\n",
       "    <tr>\n",
       "      <th>3</th>\n",
       "      <td>A3GT2EWQSO45ZG</td>\n",
       "      <td>B00002243X</td>\n",
       "      <td>DeusEx</td>\n",
       "      <td>[19, 19]</td>\n",
       "      <td>I absolutley love Amazon!!!  For the price of ...</td>\n",
       "      <td>5</td>\n",
       "      <td>Excellent choice for Jumper Cables!!!</td>\n",
       "      <td>1292889600</td>\n",
       "      <td>12 21, 2010</td>\n",
       "    </tr>\n",
       "    <tr>\n",
       "      <th>4</th>\n",
       "      <td>A3ESWJPAVRPWB4</td>\n",
       "      <td>B00002243X</td>\n",
       "      <td>E. Hernandez</td>\n",
       "      <td>[0, 0]</td>\n",
       "      <td>I purchased the 12' feet long cable set and th...</td>\n",
       "      <td>5</td>\n",
       "      <td>Excellent, High Quality Starter Cables</td>\n",
       "      <td>1341360000</td>\n",
       "      <td>07 4, 2012</td>\n",
       "    </tr>\n",
       "    <tr>\n",
       "      <th>5</th>\n",
       "      <td>A1ORODEBRN64C</td>\n",
       "      <td>B00002243X</td>\n",
       "      <td>James F. Magowan \"Jimmy Mac\"</td>\n",
       "      <td>[1, 1]</td>\n",
       "      <td>These Jumper cables are heavy Duty, Yet easy t...</td>\n",
       "      <td>5</td>\n",
       "      <td>Compact and Strong !</td>\n",
       "      <td>1258156800</td>\n",
       "      <td>11 14, 2009</td>\n",
       "    </tr>\n",
       "    <tr>\n",
       "      <th>6</th>\n",
       "      <td>A2R49ZN3G6FTCQ</td>\n",
       "      <td>B00002243X</td>\n",
       "      <td>John M. Harrell</td>\n",
       "      <td>[1, 1]</td>\n",
       "      <td>bought these for my k2500 suburban plenty of l...</td>\n",
       "      <td>5</td>\n",
       "      <td>nice cables</td>\n",
       "      <td>1326153600</td>\n",
       "      <td>01 10, 2012</td>\n",
       "    </tr>\n",
       "    <tr>\n",
       "      <th>7</th>\n",
       "      <td>A1Q65KYDKXIX8E</td>\n",
       "      <td>B00002243X</td>\n",
       "      <td>Leeland H.</td>\n",
       "      <td>[0, 0]</td>\n",
       "      <td>these are good enough to get most motorized ve...</td>\n",
       "      <td>5</td>\n",
       "      <td>for cars and pickups</td>\n",
       "      <td>1371081600</td>\n",
       "      <td>06 13, 2013</td>\n",
       "    </tr>\n",
       "    <tr>\n",
       "      <th>8</th>\n",
       "      <td>A3BI8BKIHESDNQ</td>\n",
       "      <td>B00002243X</td>\n",
       "      <td>L. J. Cunningham</td>\n",
       "      <td>[0, 0]</td>\n",
       "      <td>The Coleman Cable 08665 12-Feet Heavy-Duty Tru...</td>\n",
       "      <td>4</td>\n",
       "      <td>Coleman Cable 08665 12-Feet Heavy-Duty Truck a...</td>\n",
       "      <td>1374105600</td>\n",
       "      <td>07 18, 2013</td>\n",
       "    </tr>\n",
       "    <tr>\n",
       "      <th>9</th>\n",
       "      <td>A1R089P5AS26UE</td>\n",
       "      <td>B00002243X</td>\n",
       "      <td>Mike</td>\n",
       "      <td>[0, 0]</td>\n",
       "      <td>I have an old car, Its bound to need these som...</td>\n",
       "      <td>5</td>\n",
       "      <td>Beefy</td>\n",
       "      <td>1390348800</td>\n",
       "      <td>01 22, 2014</td>\n",
       "    </tr>\n",
       "  </tbody>\n",
       "</table>\n",
       "</div>"
      ],
      "text/plain": [
       "       reviewerID        asin                  reviewerName   helpful  \\\n",
       "0  A3F73SC1LY51OO  B00002243X               Alan Montgomery    [4, 4]   \n",
       "1  A20S66SKYXULG2  B00002243X                      alphonse    [1, 1]   \n",
       "2  A2I8LFSN2IS5EO  B00002243X                         Chris    [0, 0]   \n",
       "3  A3GT2EWQSO45ZG  B00002243X                        DeusEx  [19, 19]   \n",
       "4  A3ESWJPAVRPWB4  B00002243X                  E. Hernandez    [0, 0]   \n",
       "5   A1ORODEBRN64C  B00002243X  James F. Magowan \"Jimmy Mac\"    [1, 1]   \n",
       "6  A2R49ZN3G6FTCQ  B00002243X               John M. Harrell    [1, 1]   \n",
       "7  A1Q65KYDKXIX8E  B00002243X                    Leeland H.    [0, 0]   \n",
       "8  A3BI8BKIHESDNQ  B00002243X              L. J. Cunningham    [0, 0]   \n",
       "9  A1R089P5AS26UE  B00002243X                          Mike    [0, 0]   \n",
       "\n",
       "                                          reviewText  overall  \\\n",
       "0  I needed a set of jumper cables for my new car...        5   \n",
       "1  These long cables work fine for my truck, but ...        4   \n",
       "2  Can't comment much on these since they have no...        5   \n",
       "3  I absolutley love Amazon!!!  For the price of ...        5   \n",
       "4  I purchased the 12' feet long cable set and th...        5   \n",
       "5  These Jumper cables are heavy Duty, Yet easy t...        5   \n",
       "6  bought these for my k2500 suburban plenty of l...        5   \n",
       "7  these are good enough to get most motorized ve...        5   \n",
       "8  The Coleman Cable 08665 12-Feet Heavy-Duty Tru...        4   \n",
       "9  I have an old car, Its bound to need these som...        5   \n",
       "\n",
       "                                             summary  unixReviewTime  \\\n",
       "0         Work Well - Should Have Bought Longer Ones      1313539200   \n",
       "1                                   Okay long cables      1315094400   \n",
       "2                         Looks and feels heavy Duty      1374710400   \n",
       "3              Excellent choice for Jumper Cables!!!      1292889600   \n",
       "4             Excellent, High Quality Starter Cables      1341360000   \n",
       "5                               Compact and Strong !      1258156800   \n",
       "6                                        nice cables      1326153600   \n",
       "7                               for cars and pickups      1371081600   \n",
       "8  Coleman Cable 08665 12-Feet Heavy-Duty Truck a...      1374105600   \n",
       "9                                              Beefy      1390348800   \n",
       "\n",
       "    reviewTime  \n",
       "0  08 17, 2011  \n",
       "1   09 4, 2011  \n",
       "2  07 25, 2013  \n",
       "3  12 21, 2010  \n",
       "4   07 4, 2012  \n",
       "5  11 14, 2009  \n",
       "6  01 10, 2012  \n",
       "7  06 13, 2013  \n",
       "8  07 18, 2013  \n",
       "9  01 22, 2014  "
      ]
     },
     "execution_count": 4,
     "metadata": {},
     "output_type": "execute_result"
    }
   ],
   "source": [
    "dataFrame.head(10)"
   ]
  },
  {
   "cell_type": "code",
   "execution_count": 5,
   "id": "3d29d657",
   "metadata": {
    "id": "3d29d657",
    "outputId": "7b3e1c02-93ef-45f3-decd-89a90040b073"
   },
   "outputs": [
    {
     "data": {
      "text/plain": [
       "5    13928\n",
       "4     3967\n",
       "3     1430\n",
       "2      606\n",
       "1      542\n",
       "Name: overall, dtype: int64"
      ]
     },
     "execution_count": 5,
     "metadata": {},
     "output_type": "execute_result"
    }
   ],
   "source": [
    "dataFrame['overall'].value_counts()"
   ]
  },
  {
   "cell_type": "code",
   "execution_count": 6,
   "id": "0a221877",
   "metadata": {
    "id": "0a221877"
   },
   "outputs": [],
   "source": [
    "dataFrame['Identifier']=dataFrame['overall'].apply(lambda x:1 if x>=4 else 0)"
   ]
  },
  {
   "cell_type": "code",
   "execution_count": 7,
   "id": "df7b20d0",
   "metadata": {
    "id": "df7b20d0",
    "outputId": "fbe49fd9-47ea-4847-fbd9-239f30770eea"
   },
   "outputs": [
    {
     "data": {
      "text/html": [
       "<div>\n",
       "<style scoped>\n",
       "    .dataframe tbody tr th:only-of-type {\n",
       "        vertical-align: middle;\n",
       "    }\n",
       "\n",
       "    .dataframe tbody tr th {\n",
       "        vertical-align: top;\n",
       "    }\n",
       "\n",
       "    .dataframe thead th {\n",
       "        text-align: right;\n",
       "    }\n",
       "</style>\n",
       "<table border=\"1\" class=\"dataframe\">\n",
       "  <thead>\n",
       "    <tr style=\"text-align: right;\">\n",
       "      <th></th>\n",
       "      <th>reviewerID</th>\n",
       "      <th>asin</th>\n",
       "      <th>reviewerName</th>\n",
       "      <th>helpful</th>\n",
       "      <th>reviewText</th>\n",
       "      <th>overall</th>\n",
       "      <th>summary</th>\n",
       "      <th>unixReviewTime</th>\n",
       "      <th>reviewTime</th>\n",
       "      <th>Identifier</th>\n",
       "    </tr>\n",
       "  </thead>\n",
       "  <tbody>\n",
       "    <tr>\n",
       "      <th>0</th>\n",
       "      <td>A3F73SC1LY51OO</td>\n",
       "      <td>B00002243X</td>\n",
       "      <td>Alan Montgomery</td>\n",
       "      <td>[4, 4]</td>\n",
       "      <td>I needed a set of jumper cables for my new car...</td>\n",
       "      <td>5</td>\n",
       "      <td>Work Well - Should Have Bought Longer Ones</td>\n",
       "      <td>1313539200</td>\n",
       "      <td>08 17, 2011</td>\n",
       "      <td>1</td>\n",
       "    </tr>\n",
       "    <tr>\n",
       "      <th>1</th>\n",
       "      <td>A20S66SKYXULG2</td>\n",
       "      <td>B00002243X</td>\n",
       "      <td>alphonse</td>\n",
       "      <td>[1, 1]</td>\n",
       "      <td>These long cables work fine for my truck, but ...</td>\n",
       "      <td>4</td>\n",
       "      <td>Okay long cables</td>\n",
       "      <td>1315094400</td>\n",
       "      <td>09 4, 2011</td>\n",
       "      <td>1</td>\n",
       "    </tr>\n",
       "    <tr>\n",
       "      <th>2</th>\n",
       "      <td>A2I8LFSN2IS5EO</td>\n",
       "      <td>B00002243X</td>\n",
       "      <td>Chris</td>\n",
       "      <td>[0, 0]</td>\n",
       "      <td>Can't comment much on these since they have no...</td>\n",
       "      <td>5</td>\n",
       "      <td>Looks and feels heavy Duty</td>\n",
       "      <td>1374710400</td>\n",
       "      <td>07 25, 2013</td>\n",
       "      <td>1</td>\n",
       "    </tr>\n",
       "    <tr>\n",
       "      <th>3</th>\n",
       "      <td>A3GT2EWQSO45ZG</td>\n",
       "      <td>B00002243X</td>\n",
       "      <td>DeusEx</td>\n",
       "      <td>[19, 19]</td>\n",
       "      <td>I absolutley love Amazon!!!  For the price of ...</td>\n",
       "      <td>5</td>\n",
       "      <td>Excellent choice for Jumper Cables!!!</td>\n",
       "      <td>1292889600</td>\n",
       "      <td>12 21, 2010</td>\n",
       "      <td>1</td>\n",
       "    </tr>\n",
       "    <tr>\n",
       "      <th>4</th>\n",
       "      <td>A3ESWJPAVRPWB4</td>\n",
       "      <td>B00002243X</td>\n",
       "      <td>E. Hernandez</td>\n",
       "      <td>[0, 0]</td>\n",
       "      <td>I purchased the 12' feet long cable set and th...</td>\n",
       "      <td>5</td>\n",
       "      <td>Excellent, High Quality Starter Cables</td>\n",
       "      <td>1341360000</td>\n",
       "      <td>07 4, 2012</td>\n",
       "      <td>1</td>\n",
       "    </tr>\n",
       "    <tr>\n",
       "      <th>5</th>\n",
       "      <td>A1ORODEBRN64C</td>\n",
       "      <td>B00002243X</td>\n",
       "      <td>James F. Magowan \"Jimmy Mac\"</td>\n",
       "      <td>[1, 1]</td>\n",
       "      <td>These Jumper cables are heavy Duty, Yet easy t...</td>\n",
       "      <td>5</td>\n",
       "      <td>Compact and Strong !</td>\n",
       "      <td>1258156800</td>\n",
       "      <td>11 14, 2009</td>\n",
       "      <td>1</td>\n",
       "    </tr>\n",
       "    <tr>\n",
       "      <th>6</th>\n",
       "      <td>A2R49ZN3G6FTCQ</td>\n",
       "      <td>B00002243X</td>\n",
       "      <td>John M. Harrell</td>\n",
       "      <td>[1, 1]</td>\n",
       "      <td>bought these for my k2500 suburban plenty of l...</td>\n",
       "      <td>5</td>\n",
       "      <td>nice cables</td>\n",
       "      <td>1326153600</td>\n",
       "      <td>01 10, 2012</td>\n",
       "      <td>1</td>\n",
       "    </tr>\n",
       "    <tr>\n",
       "      <th>7</th>\n",
       "      <td>A1Q65KYDKXIX8E</td>\n",
       "      <td>B00002243X</td>\n",
       "      <td>Leeland H.</td>\n",
       "      <td>[0, 0]</td>\n",
       "      <td>these are good enough to get most motorized ve...</td>\n",
       "      <td>5</td>\n",
       "      <td>for cars and pickups</td>\n",
       "      <td>1371081600</td>\n",
       "      <td>06 13, 2013</td>\n",
       "      <td>1</td>\n",
       "    </tr>\n",
       "    <tr>\n",
       "      <th>8</th>\n",
       "      <td>A3BI8BKIHESDNQ</td>\n",
       "      <td>B00002243X</td>\n",
       "      <td>L. J. Cunningham</td>\n",
       "      <td>[0, 0]</td>\n",
       "      <td>The Coleman Cable 08665 12-Feet Heavy-Duty Tru...</td>\n",
       "      <td>4</td>\n",
       "      <td>Coleman Cable 08665 12-Feet Heavy-Duty Truck a...</td>\n",
       "      <td>1374105600</td>\n",
       "      <td>07 18, 2013</td>\n",
       "      <td>1</td>\n",
       "    </tr>\n",
       "    <tr>\n",
       "      <th>9</th>\n",
       "      <td>A1R089P5AS26UE</td>\n",
       "      <td>B00002243X</td>\n",
       "      <td>Mike</td>\n",
       "      <td>[0, 0]</td>\n",
       "      <td>I have an old car, Its bound to need these som...</td>\n",
       "      <td>5</td>\n",
       "      <td>Beefy</td>\n",
       "      <td>1390348800</td>\n",
       "      <td>01 22, 2014</td>\n",
       "      <td>1</td>\n",
       "    </tr>\n",
       "  </tbody>\n",
       "</table>\n",
       "</div>"
      ],
      "text/plain": [
       "       reviewerID        asin                  reviewerName   helpful  \\\n",
       "0  A3F73SC1LY51OO  B00002243X               Alan Montgomery    [4, 4]   \n",
       "1  A20S66SKYXULG2  B00002243X                      alphonse    [1, 1]   \n",
       "2  A2I8LFSN2IS5EO  B00002243X                         Chris    [0, 0]   \n",
       "3  A3GT2EWQSO45ZG  B00002243X                        DeusEx  [19, 19]   \n",
       "4  A3ESWJPAVRPWB4  B00002243X                  E. Hernandez    [0, 0]   \n",
       "5   A1ORODEBRN64C  B00002243X  James F. Magowan \"Jimmy Mac\"    [1, 1]   \n",
       "6  A2R49ZN3G6FTCQ  B00002243X               John M. Harrell    [1, 1]   \n",
       "7  A1Q65KYDKXIX8E  B00002243X                    Leeland H.    [0, 0]   \n",
       "8  A3BI8BKIHESDNQ  B00002243X              L. J. Cunningham    [0, 0]   \n",
       "9  A1R089P5AS26UE  B00002243X                          Mike    [0, 0]   \n",
       "\n",
       "                                          reviewText  overall  \\\n",
       "0  I needed a set of jumper cables for my new car...        5   \n",
       "1  These long cables work fine for my truck, but ...        4   \n",
       "2  Can't comment much on these since they have no...        5   \n",
       "3  I absolutley love Amazon!!!  For the price of ...        5   \n",
       "4  I purchased the 12' feet long cable set and th...        5   \n",
       "5  These Jumper cables are heavy Duty, Yet easy t...        5   \n",
       "6  bought these for my k2500 suburban plenty of l...        5   \n",
       "7  these are good enough to get most motorized ve...        5   \n",
       "8  The Coleman Cable 08665 12-Feet Heavy-Duty Tru...        4   \n",
       "9  I have an old car, Its bound to need these som...        5   \n",
       "\n",
       "                                             summary  unixReviewTime  \\\n",
       "0         Work Well - Should Have Bought Longer Ones      1313539200   \n",
       "1                                   Okay long cables      1315094400   \n",
       "2                         Looks and feels heavy Duty      1374710400   \n",
       "3              Excellent choice for Jumper Cables!!!      1292889600   \n",
       "4             Excellent, High Quality Starter Cables      1341360000   \n",
       "5                               Compact and Strong !      1258156800   \n",
       "6                                        nice cables      1326153600   \n",
       "7                               for cars and pickups      1371081600   \n",
       "8  Coleman Cable 08665 12-Feet Heavy-Duty Truck a...      1374105600   \n",
       "9                                              Beefy      1390348800   \n",
       "\n",
       "    reviewTime  Identifier  \n",
       "0  08 17, 2011           1  \n",
       "1   09 4, 2011           1  \n",
       "2  07 25, 2013           1  \n",
       "3  12 21, 2010           1  \n",
       "4   07 4, 2012           1  \n",
       "5  11 14, 2009           1  \n",
       "6  01 10, 2012           1  \n",
       "7  06 13, 2013           1  \n",
       "8  07 18, 2013           1  \n",
       "9  01 22, 2014           1  "
      ]
     },
     "execution_count": 7,
     "metadata": {},
     "output_type": "execute_result"
    }
   ],
   "source": [
    "dataFrame.head(10)"
   ]
  },
  {
   "cell_type": "code",
   "execution_count": 8,
   "id": "93405189",
   "metadata": {
    "id": "93405189",
    "outputId": "575a81c4-508b-4f6b-cf2d-f2979a1dbf90"
   },
   "outputs": [
    {
     "data": {
      "text/plain": [
       "1    17895\n",
       "0     2578\n",
       "Name: Identifier, dtype: int64"
      ]
     },
     "execution_count": 8,
     "metadata": {},
     "output_type": "execute_result"
    }
   ],
   "source": [
    "dataFrame['Identifier'].value_counts()"
   ]
  },
  {
   "cell_type": "code",
   "execution_count": 9,
   "id": "489ce662",
   "metadata": {
    "id": "489ce662"
   },
   "outputs": [],
   "source": [
    "from sklearn.model_selection import train_test_split "
   ]
  },
  {
   "cell_type": "code",
   "execution_count": 10,
   "id": "eeeed7eb",
   "metadata": {
    "id": "eeeed7eb"
   },
   "outputs": [],
   "source": [
    "x_train,x_test,y_train,y_test=train_test_split(dataFrame['reviewText'],dataFrame['Identifier'])"
   ]
  },
  {
   "cell_type": "code",
   "execution_count": 11,
   "id": "c8523bd8",
   "metadata": {
    "id": "c8523bd8"
   },
   "outputs": [],
   "source": [
    "preprocess_url = \"https://tfhub.dev/tensorflow/bert_en_uncased_preprocess/3\"\n",
    "\n",
    "model_url=\"https://tfhub.dev/tensorflow/bert_en_uncased_L-12_H-768_A-12/4\""
   ]
  },
  {
   "cell_type": "code",
   "execution_count": 12,
   "id": "2763fc06",
   "metadata": {
    "id": "2763fc06"
   },
   "outputs": [
    {
     "name": "stdout",
     "output_type": "stream",
     "text": [
      "WARNING:tensorflow:Please fix your imports. Module tensorflow.python.training.tracking.data_structures has been moved to tensorflow.python.trackable.data_structures. The old module will be deleted in version 2.11.\n"
     ]
    },
    {
     "name": "stderr",
     "output_type": "stream",
     "text": [
      "2022-09-15 03:52:17.942686: I tensorflow/core/platform/cpu_feature_guard.cc:193] This TensorFlow binary is optimized with oneAPI Deep Neural Network Library (oneDNN) to use the following CPU instructions in performance-critical operations:  AVX2 FMA\n",
      "To enable them in other operations, rebuild TensorFlow with the appropriate compiler flags.\n"
     ]
    }
   ],
   "source": [
    "bert_preprocess_model= hub.KerasLayer(preprocess_url)"
   ]
  },
  {
   "cell_type": "code",
   "execution_count": 13,
   "id": "54f5c372",
   "metadata": {
    "id": "54f5c372"
   },
   "outputs": [],
   "source": [
    "bert_model_url=hub.KerasLayer(model_url)"
   ]
  },
  {
   "cell_type": "code",
   "execution_count": 14,
   "id": "81bee73a",
   "metadata": {
    "id": "81bee73a"
   },
   "outputs": [],
   "source": [
    "myinputs=tf.keras.layers.Input(shape=(),dtype=tf.string,name='InputLayer')\n",
    "\n",
    "preprocessed_text= bert_preprocess_model(myinputs)\n",
    "\n",
    "myoutputs=bert_model_url(preprocessed_text)['pooled_output']\n",
    "\n",
    "myoutputs= tf.keras.layers.Dense(64,activation='relu',name='HiddenLayer')(myoutputs)\n",
    "\n",
    "myoutputs=tf.keras.layers.Dense(1,activation='sigmoid',name='Outputyer')(myoutputs)\n",
    "\n",
    "model = tf.keras.Model(inputs=myinputs, outputs=myoutputs)"
   ]
  },
  {
   "cell_type": "code",
   "execution_count": 15,
   "id": "08c63580",
   "metadata": {
    "id": "08c63580",
    "outputId": "8fc1247e-4e38-4442-f3f8-190a7a612d2e"
   },
   "outputs": [
    {
     "name": "stdout",
     "output_type": "stream",
     "text": [
      "Model: \"model\"\n",
      "__________________________________________________________________________________________________\n",
      " Layer (type)                   Output Shape         Param #     Connected to                     \n",
      "==================================================================================================\n",
      " InputLayer (InputLayer)        [(None,)]            0           []                               \n",
      "                                                                                                  \n",
      " keras_layer (KerasLayer)       {'input_mask': (Non  0           ['InputLayer[0][0]']             \n",
      "                                e, 128),                                                          \n",
      "                                 'input_type_ids':                                                \n",
      "                                (None, 128),                                                      \n",
      "                                 'input_word_ids':                                                \n",
      "                                (None, 128)}                                                      \n",
      "                                                                                                  \n",
      " keras_layer_1 (KerasLayer)     {'default': (None,   109482241   ['keras_layer[0][0]',            \n",
      "                                768),                             'keras_layer[0][1]',            \n",
      "                                 'encoder_outputs':               'keras_layer[0][2]']            \n",
      "                                 [(None, 128, 768),                                               \n",
      "                                 (None, 128, 768),                                                \n",
      "                                 (None, 128, 768),                                                \n",
      "                                 (None, 128, 768),                                                \n",
      "                                 (None, 128, 768),                                                \n",
      "                                 (None, 128, 768),                                                \n",
      "                                 (None, 128, 768),                                                \n",
      "                                 (None, 128, 768),                                                \n",
      "                                 (None, 128, 768),                                                \n",
      "                                 (None, 128, 768),                                                \n",
      "                                 (None, 128, 768),                                                \n",
      "                                 (None, 128, 768)],                                               \n",
      "                                 'pooled_output': (                                               \n",
      "                                None, 768),                                                       \n",
      "                                 'sequence_output':                                               \n",
      "                                 (None, 128, 768)}                                                \n",
      "                                                                                                  \n",
      " HiddenLayer (Dense)            (None, 64)           49216       ['keras_layer_1[0][13]']         \n",
      "                                                                                                  \n",
      " Outputyer (Dense)              (None, 1)            65          ['HiddenLayer[0][0]']            \n",
      "                                                                                                  \n",
      "==================================================================================================\n",
      "Total params: 109,531,522\n",
      "Trainable params: 49,281\n",
      "Non-trainable params: 109,482,241\n",
      "__________________________________________________________________________________________________\n"
     ]
    }
   ],
   "source": [
    "model.summary()"
   ]
  },
  {
   "cell_type": "code",
   "execution_count": 16,
   "id": "ebd4d084",
   "metadata": {
    "id": "ebd4d084"
   },
   "outputs": [],
   "source": [
    "model.compile(loss='binary_crossentropy'\n",
    "                     ,optimizer='adam'\n",
    "                     ,metrics=['accuracy'])"
   ]
  },
  {
   "cell_type": "code",
   "execution_count": 17,
   "id": "a910947a",
   "metadata": {
    "id": "a910947a",
    "outputId": "e1932d21-0a35-4d3d-b8f4-02fa94577cbb"
   },
   "outputs": [
    {
     "name": "stdout",
     "output_type": "stream",
     "text": [
      "480/480 [==============================] - 2473s 5s/step - loss: 0.3682 - accuracy: 0.8725\n"
     ]
    },
    {
     "data": {
      "text/plain": [
       "<keras.callbacks.History at 0x7ffd67946610>"
      ]
     },
     "execution_count": 17,
     "metadata": {},
     "output_type": "execute_result"
    }
   ],
   "source": [
    "model.fit(x_train,y_train,epochs=1)"
   ]
  },
  {
   "cell_type": "code",
   "execution_count": 19,
   "id": "ab330a82",
   "metadata": {
    "id": "ab330a82"
   },
   "outputs": [
    {
     "name": "stderr",
     "output_type": "stream",
     "text": [
      "WARNING:absl:Function `_wrapped_model` contains input name(s) InputLayer with unsupported characters which will be renamed to inputlayer in the SavedModel.\n",
      "WARNING:absl:Found untraced functions such as restored_function_body, restored_function_body, restored_function_body, restored_function_body, restored_function_body while saving (showing 5 of 366). These functions will not be directly callable after loading.\n"
     ]
    },
    {
     "name": "stdout",
     "output_type": "stream",
     "text": [
      "INFO:tensorflow:Assets written to: /Users/Bobbie/Downloads/amazon_review/1/assets\n"
     ]
    },
    {
     "name": "stderr",
     "output_type": "stream",
     "text": [
      "INFO:tensorflow:Assets written to: /Users/Bobbie/Downloads/amazon_review/1/assets\n"
     ]
    }
   ],
   "source": [
    "model.save('/Users/Bobbie/Downloads/amazon_review/1')"
   ]
  },
  {
   "cell_type": "code",
   "execution_count": null,
   "id": "90de1503",
   "metadata": {},
   "outputs": [],
   "source": []
  }
 ],
 "metadata": {
  "colab": {
   "provenance": []
  },
  "kernelspec": {
   "display_name": "Python 3 (ipykernel)",
   "language": "python",
   "name": "python3"
  },
  "language_info": {
   "codemirror_mode": {
    "name": "ipython",
    "version": 3
   },
   "file_extension": ".py",
   "mimetype": "text/x-python",
   "name": "python",
   "nbconvert_exporter": "python",
   "pygments_lexer": "ipython3",
   "version": "3.9.12"
  }
 },
 "nbformat": 4,
 "nbformat_minor": 5
}
