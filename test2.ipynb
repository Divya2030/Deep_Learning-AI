{
  "nbformat": 4,
  "nbformat_minor": 0,
  "metadata": {
    "colab": {
      "provenance": []
    },
    "kernelspec": {
      "name": "python3",
      "display_name": "Python 3"
    },
    "language_info": {
      "name": "python"
    }
  },
  "cells": [
    {
      "cell_type": "code",
      "source": [
        "import tensorflow as tf\n",
        "from tensorflow import keras\n",
        "from tensorflow.keras import layers\n",
        "from tensorflow.keras.datasets import mnist\n",
        "from keras.models import Sequential\n",
        "from keras.layers.core import Dense\n",
        "\n",
        "import numpy as np"
      ],
      "metadata": {
        "id": "48CEvhVgHL37"
      },
      "execution_count": null,
      "outputs": []
    },
    {
      "cell_type": "code",
      "source": [
        "# The XOR function performs what is called \"exclusive OR\". Below is the TRUTH table for XOR\n",
        "# A   B  A[XOR]B\n",
        "# 0   0  0\n",
        "# 0   1  1\n",
        "# 1   0  1\n",
        "# 1   1  1\n",
        "# Create a Neural network taking the input dataset (A , B) and taking A[XOR]B as the label."
      ],
      "metadata": {
        "id": "mc1fjLJ2IDEW"
      },
      "execution_count": null,
      "outputs": []
    },
    {
      "cell_type": "markdown",
      "source": [
        "Perform the following steps to create a Neural Network."
      ],
      "metadata": {
        "id": "aFVv5ccLkntG"
      }
    },
    {
      "cell_type": "code",
      "source": [
        "# Create x_train (input) as a numpy array taking A and B as inputs.\n",
        "x_train=np.array([[0,0],[0,1],[1,0],[1,1]])\n",
        "\n",
        "#Create y_train (label) as a numpy array with A[XOR]B\n",
        "y_train=np.array([0,1,1,0])\n",
        "print(\"input Dataset Shape - \", x_train.shape , ' and A[XOR]B labels shape is: ', y_train.shape)"
      ],
      "metadata": {
        "colab": {
          "base_uri": "https://localhost:8080/"
        },
        "id": "EF48UMpgKXyd",
        "outputId": "678149f9-09bd-4ece-c62f-1c4f7d39ced9"
      },
      "execution_count": null,
      "outputs": [
        {
          "output_type": "stream",
          "name": "stdout",
          "text": [
            "input Dataset Shape -  (4, 2)  and A[XOR]B labels shape is:  (4,)\n"
          ]
        }
      ]
    },
    {
      "cell_type": "code",
      "source": [
        "# Create Keras Sequential Model\n",
        "# Create two Dense layers with:\n",
        "# 128 Neurons\n",
        "# 64 Neurons\n",
        "# Use sigmoid activation function\n",
        "# Provide input shape to this layer (this should be 2 since there are 2 inputs)\n",
        "model=keras.Sequential()\n",
        "model.add(keras.layers.Dense(128,activation='sigmoid',input_shape=(2,),name='hiddenlayer1'))\n",
        "model.add(keras.layers.Dense(64,activation='sigmoid',input_shape=(2,),name='hiddenlayer2'))\n"
      ],
      "metadata": {
        "id": "hFdqMXxOlPur"
      },
      "execution_count": null,
      "outputs": []
    },
    {
      "cell_type": "code",
      "source": [
        "# Create output Dense layer with:\n",
        "# Sigmoid activation function\n",
        "# Output has 1 neuron\n",
        "model.add(keras.layers.Dense(1,activation='sigmoid',name='ouputlayer'))"
      ],
      "metadata": {
        "id": "9YDhh-C-8tB0"
      },
      "execution_count": null,
      "outputs": []
    },
    {
      "cell_type": "code",
      "source": [
        "#Compile the model using:\n",
        "#Loss function as “binary_crossentropy”\n",
        "#Use optimizer as standard gradient descent (SGD)\n",
        "#Use learning rate 0.1\n",
        "#Include metrics as “accuracy”\n",
        "\n",
        "model.compile(loss='binary_crossentropy'\n",
        "              ,optimizer=keras.optimizers.SGD(learning_rate=0.1)\n",
        "              ,metrics=['accuracy'])"
      ],
      "metadata": {
        "id": "dv1SzZpJl4fg"
      },
      "execution_count": null,
      "outputs": []
    },
    {
      "cell_type": "code",
      "source": [
        "#Fit the model to include the input dataset\n",
        "#Provide the batchsize of 4\n",
        "#Run the model for epochs upto 10000\n",
        "#Use verbose=2 to see the loss and accuracy\n",
        "model.fit(x_train,y_train,batch_size=4,epochs=10000,verbose=2)"
      ],
      "metadata": {
        "id": "Skkgb1sCmrWX"
      },
      "execution_count": null,
      "outputs": []
    },
    {
      "cell_type": "code",
      "source": [
        "#Finally predict the model using model.predict. \n",
        "#For prediction use the input dataset  since there is no separate testing data.\n",
        "prediction=model.predict(x_train)\n",
        "print(\"prediction\",prediction)"
      ],
      "metadata": {
        "colab": {
          "base_uri": "https://localhost:8080/"
        },
        "id": "EfImv17pn7Uh",
        "outputId": "14675ba8-e0f3-491d-824d-3e20dea39859"
      },
      "execution_count": null,
      "outputs": [
        {
          "output_type": "execute_result",
          "data": {
            "text/plain": [
              "array([[0.4981654 ],\n",
              "       [0.49925867],\n",
              "       [0.5008544 ],\n",
              "       [0.5017279 ]], dtype=float32)"
            ]
          },
          "metadata": {},
          "execution_count": 11
        }
      ]
    },
    {
      "cell_type": "code",
      "source": [
        "print(\"Prediction\",model.predict(x_train))\n"
      ],
      "metadata": {
        "colab": {
          "base_uri": "https://localhost:8080/"
        },
        "id": "zOnObraY9j15",
        "outputId": "205af32d-40d3-4a47-c344-92fb022dd39b"
      },
      "execution_count": null,
      "outputs": [
        {
          "output_type": "stream",
          "name": "stdout",
          "text": [
            "Prediction [[0.4981654 ]\n",
            " [0.49925867]\n",
            " [0.5008544 ]\n",
            " [0.5017279 ]]\n"
          ]
        }
      ]
    }
  ]
}