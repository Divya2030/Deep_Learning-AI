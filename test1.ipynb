{
  "nbformat": 4,
  "nbformat_minor": 0,
  "metadata": {
    "colab": {
      "name": "Assignment01.ipynb",
      "provenance": [],
      "toc_visible": true
    },
    "kernelspec": {
      "name": "python3",
      "display_name": "Python 3"
    },
    "language_info": {
      "name": "python"
    }
  },
  "cells": [
    {
      "cell_type": "markdown",
      "source": [
        "# Numpy Exercise"
      ],
      "metadata": {
        "id": "4lrAgPJIwuG0"
      }
    },
    {
      "cell_type": "code",
      "source": [
        "import numpy as np\n",
        "import pandas as pd"
      ],
      "metadata": {
        "id": "4C4iNOI3zdNz"
      },
      "execution_count": null,
      "outputs": []
    },
    {
      "cell_type": "markdown",
      "source": [
        "**1**"
      ],
      "metadata": {
        "id": "nIPqpU_9-UHc"
      }
    },
    {
      "cell_type": "code",
      "source": [
        "# 1. Create a vector of size 10\n",
        "#   1.1 Fill all the elements with zeros, print the result\n",
        "\n",
        "myvector = np.array([0,0,0,0,0,0,0,0,0,0])\n",
        "print(myvector) "
      ],
      "metadata": {
        "colab": {
          "base_uri": "https://localhost:8080/"
        },
        "outputId": "27cfa0ee-ed53-4231-f3ea-b050ac7f97f3",
        "id": "Oq3MbGnF9R2j"
      },
      "execution_count": null,
      "outputs": [
        {
          "output_type": "stream",
          "name": "stdout",
          "text": [
            "[0 0 0 0 0 0 0 0 0 0]\n"
          ]
        }
      ]
    },
    {
      "cell_type": "code",
      "source": [
        "#  1.2 Assign a value of “1” to the fifth value in this vector. Print the result.\n",
        "\n",
        "myvector = np.array([0,0,0,0,1,0,0,0,0,0])\n",
        "print(myvector)"
      ],
      "metadata": {
        "colab": {
          "base_uri": "https://localhost:8080/"
        },
        "id": "xNGBDXOw1A-V",
        "outputId": "67ec3dda-ea3f-46cd-c1b7-5006325ae115"
      },
      "execution_count": null,
      "outputs": [
        {
          "output_type": "stream",
          "name": "stdout",
          "text": [
            "[0 0 0 0 1 0 0 0 0 0]\n"
          ]
        }
      ]
    },
    {
      "cell_type": "markdown",
      "source": [
        "**2**\n"
      ],
      "metadata": {
        "id": "GsoDBbXW1ayD"
      }
    },
    {
      "cell_type": "code",
      "source": [
        "# 2. Create a vector with values ranging from 1 to 20 inclusive \n",
        "#    2.1 Print th#e result\n",
        "\n",
        "myvector = np.arange(1,21,1)\n",
        "print(myvector)"
      ],
      "metadata": {
        "colab": {
          "base_uri": "https://localhost:8080/"
        },
        "id": "ZixU5M0V1co9",
        "outputId": "381198b2-2280-40c5-893a-b7405d65b124"
      },
      "execution_count": null,
      "outputs": [
        {
          "output_type": "stream",
          "name": "stdout",
          "text": [
            "[ 1  2  3  4  5  6  7  8  9 10 11 12 13 14 15 16 17 18 19 20]\n"
          ]
        }
      ]
    },
    {
      "cell_type": "code",
      "source": [
        "# 2.2 Reverse the vector then print the result\n",
        "\n",
        "myvector = np.arange(20,0,-1)\n",
        "print(myvector)"
      ],
      "metadata": {
        "colab": {
          "base_uri": "https://localhost:8080/"
        },
        "id": "IIFQ1kzb62N9",
        "outputId": "c3155265-68bc-40fc-b766-2458081d7e5c"
      },
      "execution_count": null,
      "outputs": [
        {
          "output_type": "stream",
          "name": "stdout",
          "text": [
            "[20 19 18 17 16 15 14 13 12 11 10  9  8  7  6  5  4  3  2  1]\n"
          ]
        }
      ]
    },
    {
      "cell_type": "markdown",
      "source": [
        "**3**\n"
      ],
      "metadata": {
        "id": "BmtVAUjT3W4v"
      }
    },
    {
      "cell_type": "code",
      "source": [
        "# 3. Create a random vector of size 50.\n",
        "# 3.1 Print the vector\n",
        "\n",
        "myvector = np.random.randint(0,50,50)\n",
        "print(myvector)"
      ],
      "metadata": {
        "colab": {
          "base_uri": "https://localhost:8080/"
        },
        "id": "AM85cVy83Y_Z",
        "outputId": "03252f18-6993-48e8-f6fc-db6feb8d1750"
      },
      "execution_count": null,
      "outputs": [
        {
          "output_type": "stream",
          "name": "stdout",
          "text": [
            "[22 26 41 10 38 10 15 37 46 37 46 44  2  8 45 15 42 18 45 33 28  0 33 42\n",
            "  2 20  8 31  0  4  7  2 43  7 14 28 35  8  4 20 29 43 30 34  5  5 38 49\n",
            " 30 20]\n"
          ]
        }
      ]
    },
    {
      "cell_type": "code",
      "source": [
        "# 3.2 Find the mean of the vector and print the result\n",
        "myvector = np.random.randint(0,50,50)\n",
        "print(myvector)\n",
        "myvector_mean= np.mean(myvector)\n",
        "print(\"mean is\", myvector_mean)\n",
        "\n"
      ],
      "metadata": {
        "colab": {
          "base_uri": "https://localhost:8080/"
        },
        "id": "JixDolOz_kln",
        "outputId": "2be77dd8-3f45-4f7a-be4c-ccbaceb8b88b"
      },
      "execution_count": null,
      "outputs": [
        {
          "output_type": "stream",
          "name": "stdout",
          "text": [
            "[ 7 44 24  3 36 29  6 45 29 49 27 18 37 22 20 43 30  7 10  7 14 45 40 36\n",
            " 46 35 29 44 37 25  1 18 34 43  4 30  8 12 14 47 15 26 41 13 30 33 42 42\n",
            " 30 41]\n",
            "mean is 27.36\n"
          ]
        }
      ]
    },
    {
      "cell_type": "markdown",
      "source": [
        "**4**"
      ],
      "metadata": {
        "id": "ySAiB8PKAkCc"
      }
    },
    {
      "cell_type": "code",
      "source": [
        "# 4 Create a 3x4 matrix with a value of “1” for each element. Print the result.\n",
        "\n",
        "mymatrix_1= np.array([\n",
        "                    [1,1,1,1]\n",
        "                    ,[1,1,1,1]\n",
        "                    ,[1,1,1,1]\n",
        "                    ])\n",
        "print(mymatrix_1)"
      ],
      "metadata": {
        "colab": {
          "base_uri": "https://localhost:8080/"
        },
        "id": "h9YMCQxs3hAk",
        "outputId": "9ed15df7-6b89-48be-e977-335956af979e"
      },
      "execution_count": null,
      "outputs": [
        {
          "output_type": "stream",
          "name": "stdout",
          "text": [
            "[[1 1 1 1]\n",
            " [1 1 1 1]\n",
            " [1 1 1 1]]\n"
          ]
        }
      ]
    },
    {
      "cell_type": "code",
      "source": [
        "# 4.1 Create a 4x2 matrix with a value of “1” for each element. Print the result.\n",
        "\n",
        "mymatrix_2= np.array([\n",
        "                    [1,1]\n",
        "                    ,[1,1]\n",
        "                    ,[1,1]\n",
        "                    ,[1,1]\n",
        "                    ])\n",
        "print(mymatrix_2)"
      ],
      "metadata": {
        "colab": {
          "base_uri": "https://localhost:8080/"
        },
        "id": "zdEjW3QFBw6M",
        "outputId": "a756f1f1-6437-40ce-a7bb-2ebf303dab16"
      },
      "execution_count": null,
      "outputs": [
        {
          "output_type": "stream",
          "name": "stdout",
          "text": [
            "[[1 1]\n",
            " [1 1]\n",
            " [1 1]\n",
            " [1 1]]\n"
          ]
        }
      ]
    },
    {
      "cell_type": "code",
      "source": [
        "# Multiply both 3x4 and 4x3 matrix and print the final result\n",
        "\n",
        "matrix_mul = np.matmul(mymatrix_1,mymatrix_2)\n",
        "print(matrix_mul)"
      ],
      "metadata": {
        "colab": {
          "base_uri": "https://localhost:8080/"
        },
        "id": "hb5FHtbOB_mY",
        "outputId": "9652ddd6-bc95-4e31-e0f4-a9b0f9eec26d"
      },
      "execution_count": null,
      "outputs": [
        {
          "output_type": "stream",
          "name": "stdout",
          "text": [
            "[[4 4]\n",
            " [4 4]\n",
            " [4 4]]\n"
          ]
        }
      ]
    },
    {
      "cell_type": "markdown",
      "source": [
        "**5**"
      ],
      "metadata": {
        "id": "F498UFIyEDj3"
      }
    },
    {
      "cell_type": "code",
      "source": [
        "# 5 Create a 5x5 array with random numbers, print the array\n",
        "\n",
        "myrandom_array = np.random.rand(5,5)\n",
        "print(myrandom_array)"
      ],
      "metadata": {
        "colab": {
          "base_uri": "https://localhost:8080/"
        },
        "id": "kv2C5JIm3vK7",
        "outputId": "7bcfeda9-52be-4515-8d9e-a644b1ff8f72"
      },
      "execution_count": null,
      "outputs": [
        {
          "output_type": "stream",
          "name": "stdout",
          "text": [
            "[[0.9765059  0.56445829 0.56295723 0.56219188 0.69982572]\n",
            " [0.41005734 0.86165677 0.40190369 0.95190188 0.1393765 ]\n",
            " [0.15490944 0.71489437 0.43632701 0.0351991  0.07873564]\n",
            " [0.97881319 0.1911054  0.69080167 0.54912793 0.83666721]\n",
            " [0.64715114 0.13184502 0.30948482 0.67541355 0.95447704]]\n"
          ]
        }
      ]
    },
    {
      "cell_type": "code",
      "source": [
        "# 5.1 Find the min value from this array, print the result\n",
        "\n",
        "myrandom_array = np.random.rand(5,5)\n",
        "print(myrandom_array)\n",
        "min_value = np.amin(myrandom_array)\n",
        "print(\"Min value\", min_value)"
      ],
      "metadata": {
        "colab": {
          "base_uri": "https://localhost:8080/"
        },
        "id": "vTDGAx6zFBfl",
        "outputId": "459f3de2-3cd1-422e-9be5-06a30fbd6eb8"
      },
      "execution_count": null,
      "outputs": [
        {
          "output_type": "stream",
          "name": "stdout",
          "text": [
            "[[0.9570099  0.9535161  0.77517494 0.69578304 0.72860505]\n",
            " [0.24879719 0.95672152 0.52657699 0.44697029 0.17512435]\n",
            " [0.38382936 0.60093912 0.83217348 0.80377567 0.63975297]\n",
            " [0.62253662 0.65181288 0.59065821 0.18960417 0.77800361]\n",
            " [0.03431476 0.47844648 0.81302757 0.82905876 0.29468141]]\n",
            "Min value 0.03431475723290589\n"
          ]
        }
      ]
    },
    {
      "cell_type": "code",
      "source": [
        "# 5.2 Find the max value from this array, print the result\n",
        "\n",
        "myrandom_array = np.random.rand(5,5)\n",
        "max_value = np.amax(myrandom_array)\n",
        "print(myrandom_array)\n",
        "print(\"Max value\", max_value)"
      ],
      "metadata": {
        "colab": {
          "base_uri": "https://localhost:8080/"
        },
        "id": "ai5duz1HFBtE",
        "outputId": "a4294c2b-5eba-44ef-b22a-3ddf3a4fd985"
      },
      "execution_count": null,
      "outputs": [
        {
          "output_type": "stream",
          "name": "stdout",
          "text": [
            "[[0.89587587 0.32201426 0.04652754 0.59559136 0.17850864]\n",
            " [0.77822617 0.44177371 0.66377833 0.75638907 0.34137956]\n",
            " [0.07719869 0.32213319 0.6615218  0.69482709 0.55574758]\n",
            " [0.76932938 0.8240934  0.04894999 0.41941824 0.47360648]\n",
            " [0.47366393 0.38001327 0.08623229 0.23770089 0.96639109]]\n",
            "Max value 0.9663910858542508\n"
          ]
        }
      ]
    },
    {
      "cell_type": "markdown",
      "source": [
        "# Pandas Exercise"
      ],
      "metadata": {
        "id": "n60enZDE3vqb"
      }
    },
    {
      "cell_type": "markdown",
      "source": [
        "**1**"
      ],
      "metadata": {
        "id": "KB1l1DlP32ej"
      }
    },
    {
      "cell_type": "code",
      "source": [
        "# 1 Create a Panda Series from 10 to 50 in multiples of 10. Print the series.\n",
        "\n",
        "import numpy as np\n",
        "import pandas as pd\n",
        "myarray = np.array([10,20,30,40,50])\n",
        "myseries = pd.Series(myarray)\n",
        "print(myseries)"
      ],
      "metadata": {
        "colab": {
          "base_uri": "https://localhost:8080/"
        },
        "id": "WiDQHHS134O1",
        "outputId": "3bda56e3-dd7d-4fd5-d2cd-0ff96e28910b"
      },
      "execution_count": null,
      "outputs": [
        {
          "output_type": "stream",
          "name": "stdout",
          "text": [
            "0    10\n",
            "1    20\n",
            "2    30\n",
            "3    40\n",
            "4    50\n",
            "dtype: int64\n"
          ]
        }
      ]
    },
    {
      "cell_type": "markdown",
      "source": [
        "**2**"
      ],
      "metadata": {
        "id": "lGL3mxKA35B7"
      }
    },
    {
      "cell_type": "code",
      "source": [
        "# 2 Create a dictionary of weekdays and print this as panda series.\n",
        "\n",
        "# Example {“Monday”:1, “Tuesday:2 etc..}\n",
        "\n",
        "\n",
        "myweekday = pd.DataFrame([['Monday',1], ['Tuesday',2], ['Wednesday',3], ['Thursday',4],['Friday',5],['Saturday',6],['Sunday',7]] )\n",
        "#print(myweekday)\n",
        "#print(\"       \")\n",
        "print(dict(myweekday.values))\n"
      ],
      "metadata": {
        "colab": {
          "base_uri": "https://localhost:8080/"
        },
        "id": "q-PBWS9h37yD",
        "outputId": "84bdf6f7-9d6e-4874-a1fd-8f9c137ddf19"
      },
      "execution_count": null,
      "outputs": [
        {
          "output_type": "stream",
          "name": "stdout",
          "text": [
            "{'Monday': 1, 'Tuesday': 2, 'Wednesday': 3, 'Thursday': 4, 'Friday': 5, 'Saturday': 6, 'Sunday': 7}\n"
          ]
        }
      ]
    },
    {
      "cell_type": "markdown",
      "source": [
        "**3**"
      ],
      "metadata": {
        "id": "zR1WxwkY4AG-"
      }
    },
    {
      "cell_type": "code",
      "source": [
        "# 3 Create a data frame in Pandas with Months of the calendar year. \n",
        "#  Your output should appear like this\n",
        "\n",
        "#  Name         Month\n",
        "#  January        1\n",
        "#  February       2\n",
        "#  March          3\n",
        "#  ….             ..\n",
        "#  ….             ..\n",
        "\n",
        "\n",
        "data_columns = [\"Name\",\"Month\"]\n",
        "myarray1 = pd.DataFrame([['January',1], ['February',2], ['March',3], ['April',4],['May',5],['June',6],['July',7],['August',8],['September',9],['October',10],['November',11],['December',12]],columns=data_columns )\n",
        "print(myarray1)\n"
      ],
      "metadata": {
        "colab": {
          "base_uri": "https://localhost:8080/"
        },
        "id": "SKBuIxRt4HWb",
        "outputId": "48d27e48-5789-47b0-a2ea-e8db1bd1f189"
      },
      "execution_count": null,
      "outputs": [
        {
          "output_type": "stream",
          "name": "stdout",
          "text": [
            "         Name  Month\n",
            "0     January      1\n",
            "1    February      2\n",
            "2       March      3\n",
            "3       April      4\n",
            "4         May      5\n",
            "5        June      6\n",
            "6        July      7\n",
            "7      August      8\n",
            "8   September      9\n",
            "9     October     10\n",
            "10   November     11\n",
            "11   December     12\n"
          ]
        }
      ]
    },
    {
      "cell_type": "markdown",
      "source": [
        "**4**"
      ],
      "metadata": {
        "id": "c3Hv3fqrHjI_"
      }
    },
    {
      "cell_type": "code",
      "source": [
        "# 4.1 Use this input data and create a dataframe. Print the dataframe\n",
        "\n",
        "# input = [{'Name':'Monday', 'day':1},\n",
        "\n",
        "#       {'Name':'Tuesday', 'day':2},\n",
        "\n",
        "#       {'Name':'Wednesday', 'day':3},\n",
        "\n",
        "#       {'Name':'Thursday', 'day':4},\n",
        "\n",
        "#       {'Name':'Friday', 'day':5},\n",
        "\n",
        "#       {'Name':'Saturday', 'day':6},\n",
        "\n",
        "#       {'Name':'Sunday', 'day':7},\n",
        "\n",
        "#       ]\n",
        "\n",
        "# Next, iterate over this data frame and print the results.\n",
        "\n",
        "data_columns = [\"Name\",\"day\"]\n",
        "myweekday = pd.DataFrame([['Monday',1], ['Tuesday',2], ['Wednesday',3], ['Thursday',4],['Friday',5],['Saturday',6],['Sunday',7]],columns=data_columns )\n",
        "\n",
        "#print(myweekday)\n",
        "#print(\"       \")\n",
        "\n",
        "print((myweekday))\n"
      ],
      "metadata": {
        "colab": {
          "base_uri": "https://localhost:8080/"
        },
        "id": "Riug4DIN4qrB",
        "outputId": "3e98cdd9-cac0-4665-ea1d-3bd3b81be81b"
      },
      "execution_count": null,
      "outputs": [
        {
          "output_type": "stream",
          "name": "stdout",
          "text": [
            "        Name  day\n",
            "0     Monday    1\n",
            "1    Tuesday    2\n",
            "2  Wednesday    3\n",
            "3   Thursday    4\n",
            "4     Friday    5\n",
            "5   Saturday    6\n",
            "6     Sunday    7\n"
          ]
        }
      ]
    },
    {
      "cell_type": "code",
      "source": [
        "# 4.2 Next, iterate over this data frame and print the results.\n",
        "for index, row in myweekday.iterrows():\n",
        "    print(row['Name'], row['day'])"
      ],
      "metadata": {
        "colab": {
          "base_uri": "https://localhost:8080/"
        },
        "id": "d2NpGJdku8lv",
        "outputId": "30eb70af-9d1e-4ddb-ec17-b26a5594fb56"
      },
      "execution_count": null,
      "outputs": [
        {
          "output_type": "stream",
          "name": "stdout",
          "text": [
            "Monday 1\n",
            "Tuesday 2\n",
            "Wednesday 3\n",
            "Thursday 4\n",
            "Friday 5\n",
            "Saturday 6\n",
            "Sunday 7\n"
          ]
        }
      ]
    },
    {
      "cell_type": "markdown",
      "source": [
        "**5**"
      ],
      "metadata": {
        "id": "6OW8L50u4t3v"
      }
    },
    {
      "cell_type": "code",
      "source": [
        "# 5. Create a numpy array with 5 elements of your choice. Index these elements in Panda series and print the series.\n",
        "\n",
        "myarray = np.array([10,20,30,40,50])\n",
        "myPandaSeries=pd.Series(myarray)\n",
        "print(myPandaSeries)\n"
      ],
      "metadata": {
        "colab": {
          "base_uri": "https://localhost:8080/"
        },
        "id": "O5nPLLHV4yT8",
        "outputId": "10002d40-4008-48bc-b3d8-e749e41ed802"
      },
      "execution_count": null,
      "outputs": [
        {
          "output_type": "stream",
          "name": "stdout",
          "text": [
            "0    10\n",
            "1    20\n",
            "2    30\n",
            "3    40\n",
            "4    50\n",
            "dtype: int64\n"
          ]
        }
      ]
    }
  ]
}