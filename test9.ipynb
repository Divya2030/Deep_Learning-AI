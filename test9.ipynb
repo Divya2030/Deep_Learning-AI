{
 "cells": [
  {
   "cell_type": "code",
   "execution_count": 2,
   "id": "63af081c",
   "metadata": {},
   "outputs": [
    {
     "name": "stdout",
     "output_type": "stream",
     "text": [
      "Collecting tensorflow_text==2.8.1\n",
      "  Downloading tensorflow_text-2.8.1-cp39-cp39-macosx_10_9_x86_64.whl (4.0 MB)\n",
      "\u001b[K     |████████████████████████████████| 4.0 MB 594 kB/s eta 0:00:01\n",
      "\u001b[?25hCollecting tensorflow<2.9,>=2.8.0\n",
      "  Downloading tensorflow-2.8.3-cp39-cp39-macosx_10_14_x86_64.whl (217.9 MB)\n",
      "\u001b[K     |████████████████████████████████| 217.9 MB 86 kB/s  eta 0:00:01\n",
      "\u001b[?25hRequirement already satisfied: tensorflow-hub>=0.8.0 in ./Anaconda/anaconda3/lib/python3.9/site-packages (from tensorflow_text==2.8.1) (0.12.0)\n",
      "Requirement already satisfied: termcolor>=1.1.0 in ./Anaconda/anaconda3/lib/python3.9/site-packages (from tensorflow<2.9,>=2.8.0->tensorflow_text==2.8.1) (2.0.1)\n",
      "Requirement already satisfied: protobuf<3.20,>=3.9.2 in ./Anaconda/anaconda3/lib/python3.9/site-packages (from tensorflow<2.9,>=2.8.0->tensorflow_text==2.8.1) (3.19.1)\n",
      "Requirement already satisfied: wrapt>=1.11.0 in ./Anaconda/anaconda3/lib/python3.9/site-packages (from tensorflow<2.9,>=2.8.0->tensorflow_text==2.8.1) (1.12.1)\n",
      "Requirement already satisfied: opt-einsum>=2.3.2 in ./Anaconda/anaconda3/lib/python3.9/site-packages (from tensorflow<2.9,>=2.8.0->tensorflow_text==2.8.1) (3.3.0)\n",
      "Requirement already satisfied: numpy>=1.20 in ./Anaconda/anaconda3/lib/python3.9/site-packages (from tensorflow<2.9,>=2.8.0->tensorflow_text==2.8.1) (1.21.5)\n",
      "Requirement already satisfied: absl-py>=0.4.0 in ./Anaconda/anaconda3/lib/python3.9/site-packages (from tensorflow<2.9,>=2.8.0->tensorflow_text==2.8.1) (1.2.0)\n",
      "Requirement already satisfied: google-pasta>=0.1.1 in ./Anaconda/anaconda3/lib/python3.9/site-packages (from tensorflow<2.9,>=2.8.0->tensorflow_text==2.8.1) (0.2.0)\n",
      "Requirement already satisfied: keras-preprocessing>=1.1.1 in ./Anaconda/anaconda3/lib/python3.9/site-packages (from tensorflow<2.9,>=2.8.0->tensorflow_text==2.8.1) (1.1.2)\n",
      "Collecting tensorboard<2.9,>=2.8\n",
      "  Downloading tensorboard-2.8.0-py3-none-any.whl (5.8 MB)\n",
      "\u001b[K     |████████████████████████████████| 5.8 MB 475 kB/s eta 0:00:01\n",
      "\u001b[?25hRequirement already satisfied: grpcio<2.0,>=1.24.3 in ./Anaconda/anaconda3/lib/python3.9/site-packages (from tensorflow<2.9,>=2.8.0->tensorflow_text==2.8.1) (1.42.0)\n",
      "Requirement already satisfied: setuptools in ./Anaconda/anaconda3/lib/python3.9/site-packages (from tensorflow<2.9,>=2.8.0->tensorflow_text==2.8.1) (61.2.0)\n",
      "Requirement already satisfied: gast>=0.2.1 in ./Anaconda/anaconda3/lib/python3.9/site-packages (from tensorflow<2.9,>=2.8.0->tensorflow_text==2.8.1) (0.4.0)\n",
      "Requirement already satisfied: tensorflow-io-gcs-filesystem>=0.23.1 in ./Anaconda/anaconda3/lib/python3.9/site-packages (from tensorflow<2.9,>=2.8.0->tensorflow_text==2.8.1) (0.27.0)\n",
      "Requirement already satisfied: h5py>=2.9.0 in ./Anaconda/anaconda3/lib/python3.9/site-packages (from tensorflow<2.9,>=2.8.0->tensorflow_text==2.8.1) (3.6.0)\n",
      "Requirement already satisfied: flatbuffers>=1.12 in ./Anaconda/anaconda3/lib/python3.9/site-packages (from tensorflow<2.9,>=2.8.0->tensorflow_text==2.8.1) (2.0.7)\n",
      "Collecting tensorflow-estimator<2.9,>=2.8\n",
      "  Downloading tensorflow_estimator-2.8.0-py2.py3-none-any.whl (462 kB)\n",
      "\u001b[K     |████████████████████████████████| 462 kB 3.4 MB/s eta 0:00:01\n",
      "\u001b[?25hCollecting keras<2.9,>=2.8.0rc0\n",
      "  Downloading keras-2.8.0-py2.py3-none-any.whl (1.4 MB)\n",
      "\u001b[K     |████████████████████████████████| 1.4 MB 2.2 MB/s eta 0:00:01\n",
      "\u001b[?25hRequirement already satisfied: six>=1.12.0 in ./Anaconda/anaconda3/lib/python3.9/site-packages (from tensorflow<2.9,>=2.8.0->tensorflow_text==2.8.1) (1.16.0)\n",
      "Requirement already satisfied: astunparse>=1.6.0 in ./Anaconda/anaconda3/lib/python3.9/site-packages (from tensorflow<2.9,>=2.8.0->tensorflow_text==2.8.1) (1.6.3)\n",
      "Requirement already satisfied: libclang>=9.0.1 in ./Anaconda/anaconda3/lib/python3.9/site-packages (from tensorflow<2.9,>=2.8.0->tensorflow_text==2.8.1) (14.0.6)\n",
      "Requirement already satisfied: typing-extensions>=3.6.6 in ./Anaconda/anaconda3/lib/python3.9/site-packages (from tensorflow<2.9,>=2.8.0->tensorflow_text==2.8.1) (4.1.1)\n",
      "Requirement already satisfied: wheel<1.0,>=0.23.0 in ./Anaconda/anaconda3/lib/python3.9/site-packages (from astunparse>=1.6.0->tensorflow<2.9,>=2.8.0->tensorflow_text==2.8.1) (0.37.1)\n",
      "Requirement already satisfied: google-auth-oauthlib<0.5,>=0.4.1 in ./Anaconda/anaconda3/lib/python3.9/site-packages (from tensorboard<2.9,>=2.8->tensorflow<2.9,>=2.8.0->tensorflow_text==2.8.1) (0.4.6)\n",
      "Requirement already satisfied: tensorboard-plugin-wit>=1.6.0 in ./Anaconda/anaconda3/lib/python3.9/site-packages (from tensorboard<2.9,>=2.8->tensorflow<2.9,>=2.8.0->tensorflow_text==2.8.1) (1.8.1)\n",
      "Requirement already satisfied: requests<3,>=2.21.0 in ./Anaconda/anaconda3/lib/python3.9/site-packages (from tensorboard<2.9,>=2.8->tensorflow<2.9,>=2.8.0->tensorflow_text==2.8.1) (2.27.1)\n",
      "Requirement already satisfied: tensorboard-data-server<0.7.0,>=0.6.0 in ./Anaconda/anaconda3/lib/python3.9/site-packages (from tensorboard<2.9,>=2.8->tensorflow<2.9,>=2.8.0->tensorflow_text==2.8.1) (0.6.1)\n",
      "Requirement already satisfied: google-auth<3,>=1.6.3 in ./Anaconda/anaconda3/lib/python3.9/site-packages (from tensorboard<2.9,>=2.8->tensorflow<2.9,>=2.8.0->tensorflow_text==2.8.1) (1.33.0)\n",
      "Requirement already satisfied: markdown>=2.6.8 in ./Anaconda/anaconda3/lib/python3.9/site-packages (from tensorboard<2.9,>=2.8->tensorflow<2.9,>=2.8.0->tensorflow_text==2.8.1) (3.3.4)\n",
      "Requirement already satisfied: werkzeug>=0.11.15 in ./Anaconda/anaconda3/lib/python3.9/site-packages (from tensorboard<2.9,>=2.8->tensorflow<2.9,>=2.8.0->tensorflow_text==2.8.1) (2.0.3)\n",
      "Requirement already satisfied: cachetools<5.0,>=2.0.0 in ./Anaconda/anaconda3/lib/python3.9/site-packages (from google-auth<3,>=1.6.3->tensorboard<2.9,>=2.8->tensorflow<2.9,>=2.8.0->tensorflow_text==2.8.1) (4.2.2)\n",
      "Requirement already satisfied: rsa<5,>=3.1.4 in ./Anaconda/anaconda3/lib/python3.9/site-packages (from google-auth<3,>=1.6.3->tensorboard<2.9,>=2.8->tensorflow<2.9,>=2.8.0->tensorflow_text==2.8.1) (4.7.2)\n",
      "Requirement already satisfied: pyasn1-modules>=0.2.1 in ./Anaconda/anaconda3/lib/python3.9/site-packages (from google-auth<3,>=1.6.3->tensorboard<2.9,>=2.8->tensorflow<2.9,>=2.8.0->tensorflow_text==2.8.1) (0.2.8)\n",
      "Requirement already satisfied: requests-oauthlib>=0.7.0 in ./Anaconda/anaconda3/lib/python3.9/site-packages (from google-auth-oauthlib<0.5,>=0.4.1->tensorboard<2.9,>=2.8->tensorflow<2.9,>=2.8.0->tensorflow_text==2.8.1) (1.3.1)\n",
      "Requirement already satisfied: pyasn1<0.5.0,>=0.4.6 in ./Anaconda/anaconda3/lib/python3.9/site-packages (from pyasn1-modules>=0.2.1->google-auth<3,>=1.6.3->tensorboard<2.9,>=2.8->tensorflow<2.9,>=2.8.0->tensorflow_text==2.8.1) (0.4.8)\n",
      "Requirement already satisfied: idna<4,>=2.5 in ./Anaconda/anaconda3/lib/python3.9/site-packages (from requests<3,>=2.21.0->tensorboard<2.9,>=2.8->tensorflow<2.9,>=2.8.0->tensorflow_text==2.8.1) (3.3)\n",
      "Requirement already satisfied: certifi>=2017.4.17 in ./Anaconda/anaconda3/lib/python3.9/site-packages (from requests<3,>=2.21.0->tensorboard<2.9,>=2.8->tensorflow<2.9,>=2.8.0->tensorflow_text==2.8.1) (2021.10.8)\n",
      "Requirement already satisfied: urllib3<1.27,>=1.21.1 in ./Anaconda/anaconda3/lib/python3.9/site-packages (from requests<3,>=2.21.0->tensorboard<2.9,>=2.8->tensorflow<2.9,>=2.8.0->tensorflow_text==2.8.1) (1.26.9)\n",
      "Requirement already satisfied: charset-normalizer~=2.0.0 in ./Anaconda/anaconda3/lib/python3.9/site-packages (from requests<3,>=2.21.0->tensorboard<2.9,>=2.8->tensorflow<2.9,>=2.8.0->tensorflow_text==2.8.1) (2.0.4)\n",
      "Requirement already satisfied: oauthlib>=3.0.0 in ./Anaconda/anaconda3/lib/python3.9/site-packages (from requests-oauthlib>=0.7.0->google-auth-oauthlib<0.5,>=0.4.1->tensorboard<2.9,>=2.8->tensorflow<2.9,>=2.8.0->tensorflow_text==2.8.1) (3.2.1)\n",
      "Installing collected packages: tensorflow-estimator, tensorboard, keras, tensorflow, tensorflow-text\n",
      "  Attempting uninstall: tensorflow-estimator\n",
      "    Found existing installation: tensorflow-estimator 2.10.0\n",
      "    Uninstalling tensorflow-estimator-2.10.0:\n",
      "      Successfully uninstalled tensorflow-estimator-2.10.0\n",
      "  Attempting uninstall: tensorboard\n",
      "    Found existing installation: tensorboard 2.10.0\n",
      "    Uninstalling tensorboard-2.10.0:\n",
      "      Successfully uninstalled tensorboard-2.10.0\n",
      "  Attempting uninstall: keras\n",
      "    Found existing installation: keras 2.10.0\n",
      "    Uninstalling keras-2.10.0:\n",
      "      Successfully uninstalled keras-2.10.0\n",
      "  Attempting uninstall: tensorflow\n",
      "    Found existing installation: tensorflow 2.10.0\n",
      "    Uninstalling tensorflow-2.10.0:\n",
      "      Successfully uninstalled tensorflow-2.10.0\n",
      "  Attempting uninstall: tensorflow-text\n",
      "    Found existing installation: tensorflow-text 2.10.0\n",
      "    Uninstalling tensorflow-text-2.10.0:\n",
      "      Successfully uninstalled tensorflow-text-2.10.0\n",
      "\u001b[31mERROR: pip's dependency resolver does not currently take into account all the packages that are installed. This behaviour is the source of the following dependency conflicts.\n",
      "tensorflow-serving-api 2.10.0 requires tensorflow<3,>=2.10.0, but you have tensorflow 2.8.3 which is incompatible.\u001b[0m\n",
      "Successfully installed keras-2.8.0 tensorboard-2.8.0 tensorflow-2.8.3 tensorflow-estimator-2.8.0 tensorflow-text-2.8.1\n"
     ]
    }
   ],
   "source": [
    "!pip install tensorflow_text==2.8.1"
   ]
  },
  {
   "cell_type": "code",
   "execution_count": 3,
   "id": "a0617af6",
   "metadata": {},
   "outputs": [],
   "source": [
    "import tensorflow as tf\n",
    "from tensorflow import keras\n",
    "from tensorflow.keras import layers\n",
    "import tensorflow_hub as hub\n",
    "import tensorflow_text as text\n",
    "import numpy as np\n",
    "import pandas as pd"
   ]
  },
  {
   "cell_type": "code",
   "execution_count": 4,
   "id": "9aef38d4",
   "metadata": {},
   "outputs": [],
   "source": [
    "dataFrame=pd.read_csv('/Users/Bobbie/Downloads/BERT/spam.csv',encoding='ISO8859-1')"
   ]
  },
  {
   "cell_type": "code",
   "execution_count": 5,
   "id": "61db225d",
   "metadata": {},
   "outputs": [
    {
     "data": {
      "text/html": [
       "<div>\n",
       "<style scoped>\n",
       "    .dataframe tbody tr th:only-of-type {\n",
       "        vertical-align: middle;\n",
       "    }\n",
       "\n",
       "    .dataframe tbody tr th {\n",
       "        vertical-align: top;\n",
       "    }\n",
       "\n",
       "    .dataframe thead th {\n",
       "        text-align: right;\n",
       "    }\n",
       "</style>\n",
       "<table border=\"1\" class=\"dataframe\">\n",
       "  <thead>\n",
       "    <tr style=\"text-align: right;\">\n",
       "      <th></th>\n",
       "      <th>Category</th>\n",
       "      <th>Message</th>\n",
       "      <th>Unnamed: 2</th>\n",
       "      <th>Unnamed: 3</th>\n",
       "      <th>Unnamed: 4</th>\n",
       "    </tr>\n",
       "  </thead>\n",
       "  <tbody>\n",
       "    <tr>\n",
       "      <th>0</th>\n",
       "      <td>ham</td>\n",
       "      <td>Go until jurong point, crazy.. Available only ...</td>\n",
       "      <td>NaN</td>\n",
       "      <td>NaN</td>\n",
       "      <td>NaN</td>\n",
       "    </tr>\n",
       "    <tr>\n",
       "      <th>1</th>\n",
       "      <td>ham</td>\n",
       "      <td>Ok lar... Joking wif u oni...</td>\n",
       "      <td>NaN</td>\n",
       "      <td>NaN</td>\n",
       "      <td>NaN</td>\n",
       "    </tr>\n",
       "    <tr>\n",
       "      <th>2</th>\n",
       "      <td>spam</td>\n",
       "      <td>Free entry in 2 a wkly comp to win FA Cup fina...</td>\n",
       "      <td>NaN</td>\n",
       "      <td>NaN</td>\n",
       "      <td>NaN</td>\n",
       "    </tr>\n",
       "    <tr>\n",
       "      <th>3</th>\n",
       "      <td>ham</td>\n",
       "      <td>U dun say so early hor... U c already then say...</td>\n",
       "      <td>NaN</td>\n",
       "      <td>NaN</td>\n",
       "      <td>NaN</td>\n",
       "    </tr>\n",
       "    <tr>\n",
       "      <th>4</th>\n",
       "      <td>ham</td>\n",
       "      <td>Nah I don't think he goes to usf, he lives aro...</td>\n",
       "      <td>NaN</td>\n",
       "      <td>NaN</td>\n",
       "      <td>NaN</td>\n",
       "    </tr>\n",
       "    <tr>\n",
       "      <th>5</th>\n",
       "      <td>spam</td>\n",
       "      <td>FreeMsg Hey there darling it's been 3 week's n...</td>\n",
       "      <td>NaN</td>\n",
       "      <td>NaN</td>\n",
       "      <td>NaN</td>\n",
       "    </tr>\n",
       "    <tr>\n",
       "      <th>6</th>\n",
       "      <td>ham</td>\n",
       "      <td>Even my brother is not like to speak with me. ...</td>\n",
       "      <td>NaN</td>\n",
       "      <td>NaN</td>\n",
       "      <td>NaN</td>\n",
       "    </tr>\n",
       "    <tr>\n",
       "      <th>7</th>\n",
       "      <td>ham</td>\n",
       "      <td>As per your request 'Melle Melle (Oru Minnamin...</td>\n",
       "      <td>NaN</td>\n",
       "      <td>NaN</td>\n",
       "      <td>NaN</td>\n",
       "    </tr>\n",
       "    <tr>\n",
       "      <th>8</th>\n",
       "      <td>spam</td>\n",
       "      <td>WINNER!! As a valued network customer you have...</td>\n",
       "      <td>NaN</td>\n",
       "      <td>NaN</td>\n",
       "      <td>NaN</td>\n",
       "    </tr>\n",
       "    <tr>\n",
       "      <th>9</th>\n",
       "      <td>spam</td>\n",
       "      <td>Had your mobile 11 months or more? U R entitle...</td>\n",
       "      <td>NaN</td>\n",
       "      <td>NaN</td>\n",
       "      <td>NaN</td>\n",
       "    </tr>\n",
       "  </tbody>\n",
       "</table>\n",
       "</div>"
      ],
      "text/plain": [
       "  Category                                            Message Unnamed: 2  \\\n",
       "0      ham  Go until jurong point, crazy.. Available only ...        NaN   \n",
       "1      ham                      Ok lar... Joking wif u oni...        NaN   \n",
       "2     spam  Free entry in 2 a wkly comp to win FA Cup fina...        NaN   \n",
       "3      ham  U dun say so early hor... U c already then say...        NaN   \n",
       "4      ham  Nah I don't think he goes to usf, he lives aro...        NaN   \n",
       "5     spam  FreeMsg Hey there darling it's been 3 week's n...        NaN   \n",
       "6      ham  Even my brother is not like to speak with me. ...        NaN   \n",
       "7      ham  As per your request 'Melle Melle (Oru Minnamin...        NaN   \n",
       "8     spam  WINNER!! As a valued network customer you have...        NaN   \n",
       "9     spam  Had your mobile 11 months or more? U R entitle...        NaN   \n",
       "\n",
       "  Unnamed: 3 Unnamed: 4  \n",
       "0        NaN        NaN  \n",
       "1        NaN        NaN  \n",
       "2        NaN        NaN  \n",
       "3        NaN        NaN  \n",
       "4        NaN        NaN  \n",
       "5        NaN        NaN  \n",
       "6        NaN        NaN  \n",
       "7        NaN        NaN  \n",
       "8        NaN        NaN  \n",
       "9        NaN        NaN  "
      ]
     },
     "execution_count": 5,
     "metadata": {},
     "output_type": "execute_result"
    }
   ],
   "source": [
    "dataFrame.head(10)"
   ]
  },
  {
   "cell_type": "code",
   "execution_count": 6,
   "id": "65fba260",
   "metadata": {},
   "outputs": [
    {
     "data": {
      "text/plain": [
       "ham     4825\n",
       "spam     747\n",
       "Name: Category, dtype: int64"
      ]
     },
     "execution_count": 6,
     "metadata": {},
     "output_type": "execute_result"
    }
   ],
   "source": [
    "dataFrame['Category'].value_counts()"
   ]
  },
  {
   "cell_type": "code",
   "execution_count": 7,
   "id": "6179b426",
   "metadata": {},
   "outputs": [],
   "source": [
    "dataFrame['Identifier']=dataFrame['Category'].apply(lambda x:1 if x=='spam' else 0)"
   ]
  },
  {
   "cell_type": "code",
   "execution_count": 8,
   "id": "29bf1e30",
   "metadata": {},
   "outputs": [
    {
     "data": {
      "text/html": [
       "<div>\n",
       "<style scoped>\n",
       "    .dataframe tbody tr th:only-of-type {\n",
       "        vertical-align: middle;\n",
       "    }\n",
       "\n",
       "    .dataframe tbody tr th {\n",
       "        vertical-align: top;\n",
       "    }\n",
       "\n",
       "    .dataframe thead th {\n",
       "        text-align: right;\n",
       "    }\n",
       "</style>\n",
       "<table border=\"1\" class=\"dataframe\">\n",
       "  <thead>\n",
       "    <tr style=\"text-align: right;\">\n",
       "      <th></th>\n",
       "      <th>Category</th>\n",
       "      <th>Message</th>\n",
       "      <th>Unnamed: 2</th>\n",
       "      <th>Unnamed: 3</th>\n",
       "      <th>Unnamed: 4</th>\n",
       "      <th>Identifier</th>\n",
       "    </tr>\n",
       "  </thead>\n",
       "  <tbody>\n",
       "    <tr>\n",
       "      <th>0</th>\n",
       "      <td>ham</td>\n",
       "      <td>Go until jurong point, crazy.. Available only ...</td>\n",
       "      <td>NaN</td>\n",
       "      <td>NaN</td>\n",
       "      <td>NaN</td>\n",
       "      <td>0</td>\n",
       "    </tr>\n",
       "    <tr>\n",
       "      <th>1</th>\n",
       "      <td>ham</td>\n",
       "      <td>Ok lar... Joking wif u oni...</td>\n",
       "      <td>NaN</td>\n",
       "      <td>NaN</td>\n",
       "      <td>NaN</td>\n",
       "      <td>0</td>\n",
       "    </tr>\n",
       "    <tr>\n",
       "      <th>2</th>\n",
       "      <td>spam</td>\n",
       "      <td>Free entry in 2 a wkly comp to win FA Cup fina...</td>\n",
       "      <td>NaN</td>\n",
       "      <td>NaN</td>\n",
       "      <td>NaN</td>\n",
       "      <td>1</td>\n",
       "    </tr>\n",
       "    <tr>\n",
       "      <th>3</th>\n",
       "      <td>ham</td>\n",
       "      <td>U dun say so early hor... U c already then say...</td>\n",
       "      <td>NaN</td>\n",
       "      <td>NaN</td>\n",
       "      <td>NaN</td>\n",
       "      <td>0</td>\n",
       "    </tr>\n",
       "    <tr>\n",
       "      <th>4</th>\n",
       "      <td>ham</td>\n",
       "      <td>Nah I don't think he goes to usf, he lives aro...</td>\n",
       "      <td>NaN</td>\n",
       "      <td>NaN</td>\n",
       "      <td>NaN</td>\n",
       "      <td>0</td>\n",
       "    </tr>\n",
       "  </tbody>\n",
       "</table>\n",
       "</div>"
      ],
      "text/plain": [
       "  Category                                            Message Unnamed: 2  \\\n",
       "0      ham  Go until jurong point, crazy.. Available only ...        NaN   \n",
       "1      ham                      Ok lar... Joking wif u oni...        NaN   \n",
       "2     spam  Free entry in 2 a wkly comp to win FA Cup fina...        NaN   \n",
       "3      ham  U dun say so early hor... U c already then say...        NaN   \n",
       "4      ham  Nah I don't think he goes to usf, he lives aro...        NaN   \n",
       "\n",
       "  Unnamed: 3 Unnamed: 4  Identifier  \n",
       "0        NaN        NaN           0  \n",
       "1        NaN        NaN           0  \n",
       "2        NaN        NaN           1  \n",
       "3        NaN        NaN           0  \n",
       "4        NaN        NaN           0  "
      ]
     },
     "execution_count": 8,
     "metadata": {},
     "output_type": "execute_result"
    }
   ],
   "source": [
    "dataFrame.head()"
   ]
  },
  {
   "cell_type": "code",
   "execution_count": 9,
   "id": "f4cbb117",
   "metadata": {},
   "outputs": [],
   "source": [
    "preprocess_url='https://tfhub.dev/tensorflow/bert_en_uncased_preprocess/3'\n",
    "\n",
    "model_url='https://tfhub.dev/tensorflow/bert_en_uncased_L-12_H-768_A-12/4'"
   ]
  },
  {
   "cell_type": "code",
   "execution_count": 10,
   "id": "1072fe64",
   "metadata": {},
   "outputs": [
    {
     "name": "stderr",
     "output_type": "stream",
     "text": [
      "2022-09-15 15:24:33.465346: I tensorflow/core/platform/cpu_feature_guard.cc:151] This TensorFlow binary is optimized with oneAPI Deep Neural Network Library (oneDNN) to use the following CPU instructions in performance-critical operations:  AVX2 FMA\n",
      "To enable them in other operations, rebuild TensorFlow with the appropriate compiler flags.\n"
     ]
    }
   ],
   "source": [
    "bert_preprocess_url=hub.KerasLayer(preprocess_url)"
   ]
  },
  {
   "cell_type": "code",
   "execution_count": 11,
   "id": "b6d907f9",
   "metadata": {},
   "outputs": [],
   "source": [
    "bert_model_url=hub.KerasLayer(model_url)"
   ]
  },
  {
   "cell_type": "code",
   "execution_count": 12,
   "id": "f43a0873",
   "metadata": {},
   "outputs": [],
   "source": [
    "myinputs=tf.keras.layers.Input(shape=(),dtype=tf.string,name='InputLayer')\n",
    "\n",
    "preprocess_text=bert_preprocess_url(myinputs)\n",
    "\n",
    "myoutputs=bert_model_url(preprocess_text)['pooled_output']\n",
    "\n",
    "myoutputs=tf.keras.layers.Dense(128,activation='tanh',name='HiddenLayer1')(myoutputs)\n",
    "\n",
    "myoutputs=tf.keras.layers.Dense(64,activation='tanh',name='HiddenLayer2')(myoutputs)\n",
    "\n",
    "myoutputs=tf.keras.layers.Dense(1,activation='sigmoid',name='OutputLayer')(myoutputs)\n",
    "\n",
    "model=tf.keras.Model(inputs=myinputs, outputs=myoutputs)"
   ]
  },
  {
   "cell_type": "code",
   "execution_count": 13,
   "id": "f2fafb57",
   "metadata": {},
   "outputs": [
    {
     "name": "stdout",
     "output_type": "stream",
     "text": [
      "Model: \"model\"\n",
      "__________________________________________________________________________________________________\n",
      " Layer (type)                   Output Shape         Param #     Connected to                     \n",
      "==================================================================================================\n",
      " InputLayer (InputLayer)        [(None,)]            0           []                               \n",
      "                                                                                                  \n",
      " keras_layer (KerasLayer)       {'input_mask': (Non  0           ['InputLayer[0][0]']             \n",
      "                                e, 128),                                                          \n",
      "                                 'input_word_ids':                                                \n",
      "                                (None, 128),                                                      \n",
      "                                 'input_type_ids':                                                \n",
      "                                (None, 128)}                                                      \n",
      "                                                                                                  \n",
      " keras_layer_1 (KerasLayer)     {'encoder_outputs':  109482241   ['keras_layer[0][0]',            \n",
      "                                 [(None, 128, 768),               'keras_layer[0][1]',            \n",
      "                                 (None, 128, 768),                'keras_layer[0][2]']            \n",
      "                                 (None, 128, 768),                                                \n",
      "                                 (None, 128, 768),                                                \n",
      "                                 (None, 128, 768),                                                \n",
      "                                 (None, 128, 768),                                                \n",
      "                                 (None, 128, 768),                                                \n",
      "                                 (None, 128, 768),                                                \n",
      "                                 (None, 128, 768),                                                \n",
      "                                 (None, 128, 768),                                                \n",
      "                                 (None, 128, 768),                                                \n",
      "                                 (None, 128, 768)],                                               \n",
      "                                 'sequence_output':                                               \n",
      "                                 (None, 128, 768),                                                \n",
      "                                 'pooled_output': (                                               \n",
      "                                None, 768),                                                       \n",
      "                                 'default': (None,                                                \n",
      "                                768)}                                                             \n",
      "                                                                                                  \n",
      " HiddenLayer1 (Dense)           (None, 128)          98432       ['keras_layer_1[0][13]']         \n",
      "                                                                                                  \n",
      " HiddenLayer2 (Dense)           (None, 64)           8256        ['HiddenLayer1[0][0]']           \n",
      "                                                                                                  \n",
      " OutputLayer (Dense)            (None, 1)            65          ['HiddenLayer2[0][0]']           \n",
      "                                                                                                  \n",
      "==================================================================================================\n",
      "Total params: 109,588,994\n",
      "Trainable params: 106,753\n",
      "Non-trainable params: 109,482,241\n",
      "__________________________________________________________________________________________________\n"
     ]
    }
   ],
   "source": [
    "model.summary()"
   ]
  },
  {
   "cell_type": "code",
   "execution_count": 14,
   "id": "c99255cf",
   "metadata": {},
   "outputs": [],
   "source": [
    "model.compile(loss='binary_crossentropy'\n",
    "             ,optimizer='adam'\n",
    "             ,metrics=['accuracy'])"
   ]
  },
  {
   "cell_type": "code",
   "execution_count": 15,
   "id": "f06481c2",
   "metadata": {},
   "outputs": [],
   "source": [
    "from sklearn.model_selection import train_test_split"
   ]
  },
  {
   "cell_type": "code",
   "execution_count": 16,
   "id": "5cfa9ba6",
   "metadata": {},
   "outputs": [],
   "source": [
    "x_train,x_test,y_train,y_test=train_test_split(dataFrame['Message'],dataFrame['Identifier'])"
   ]
  },
  {
   "cell_type": "code",
   "execution_count": 17,
   "id": "c85f6c56",
   "metadata": {},
   "outputs": [
    {
     "name": "stdout",
     "output_type": "stream",
     "text": [
      "131/131 [==============================] - 615s 5s/step - loss: 0.2449 - accuracy: 0.9050\n"
     ]
    },
    {
     "data": {
      "text/plain": [
       "<keras.callbacks.History at 0x7fcb30203ee0>"
      ]
     },
     "execution_count": 17,
     "metadata": {},
     "output_type": "execute_result"
    }
   ],
   "source": [
    "model.fit(x_train,y_train,epochs=1)"
   ]
  },
  {
   "cell_type": "code",
   "execution_count": 18,
   "id": "fd49f25c",
   "metadata": {},
   "outputs": [
    {
     "name": "stdout",
     "output_type": "stream",
     "text": [
      "44/44 [==============================] - 204s 5s/step - loss: 0.1550 - accuracy: 0.9447\n"
     ]
    },
    {
     "data": {
      "text/plain": [
       "[0.15502092242240906, 0.9447236061096191]"
      ]
     },
     "execution_count": 18,
     "metadata": {},
     "output_type": "execute_result"
    }
   ],
   "source": [
    "model.evaluate(x_test,y_test)"
   ]
  },
  {
   "cell_type": "code",
   "execution_count": 19,
   "id": "2726c04c",
   "metadata": {},
   "outputs": [],
   "source": [
    "#1.spam\n",
    "#2.not a spam\n",
    "#3. spam\n",
    "\n",
    "check_predictions=[\n",
    "    'XXXMobileMovieClub: To use your credit, click the WAP link in the next txt message or click here>> http://wap. xxxmobilemovieclub.com?n=QJKGIGHJJGCBL'\n",
    "    ,'What you thinked about me. First time you saw me in class.'\n",
    "    ,'As a valued customer, I am pleased to advise you that following recent review of your Mob No. you are awarded with a <E5><A3<A3>1500 Bonus Prize, call 09066364589'\n",
    "]\n",
    "\n",
    "\n"
   ]
  },
  {
   "cell_type": "code",
   "execution_count": 20,
   "id": "e8fd10ad",
   "metadata": {},
   "outputs": [
    {
     "data": {
      "text/plain": [
       "array([[0.943959 ],\n",
       "       [0.0053277],\n",
       "       [0.7949698]], dtype=float32)"
      ]
     },
     "execution_count": 20,
     "metadata": {},
     "output_type": "execute_result"
    }
   ],
   "source": [
    "model.predict(check_predictions)"
   ]
  },
  {
   "cell_type": "code",
   "execution_count": 24,
   "id": "c333cc3d",
   "metadata": {},
   "outputs": [
    {
     "name": "stderr",
     "output_type": "stream",
     "text": [
      "WARNING:absl:Function `_wrapped_model` contains input name(s) InputLayer with unsupported characters which will be renamed to inputlayer in the SavedModel.\n",
      "WARNING:absl:Found untraced functions such as restored_function_body, restored_function_body, restored_function_body, restored_function_body, restored_function_body while saving (showing 5 of 366). These functions will not be directly callable after loading.\n"
     ]
    },
    {
     "name": "stdout",
     "output_type": "stream",
     "text": [
      "INFO:tensorflow:Assets written to: /Users/Bobbie/Downloads/BERT/mymodel/1/assets\n"
     ]
    },
    {
     "name": "stderr",
     "output_type": "stream",
     "text": [
      "INFO:tensorflow:Assets written to: /Users/Bobbie/Downloads/BERT/mymodel/1/assets\n"
     ]
    }
   ],
   "source": [
    "model.save('/Users/Bobbie/Downloads/BERT/mymodel/1')"
   ]
  },
  {
   "cell_type": "code",
   "execution_count": 25,
   "id": "933d6928",
   "metadata": {},
   "outputs": [
    {
     "name": "stderr",
     "output_type": "stream",
     "text": [
      "WARNING:absl:Function `_wrapped_model` contains input name(s) InputLayer with unsupported characters which will be renamed to inputlayer in the SavedModel.\n",
      "WARNING:absl:Found untraced functions such as restored_function_body, restored_function_body, restored_function_body, restored_function_body, restored_function_body while saving (showing 5 of 366). These functions will not be directly callable after loading.\n"
     ]
    },
    {
     "name": "stdout",
     "output_type": "stream",
     "text": [
      "INFO:tensorflow:Assets written to: /Users/Bobbie/Downloads/BERT/mymodel/2/assets\n"
     ]
    },
    {
     "name": "stderr",
     "output_type": "stream",
     "text": [
      "INFO:tensorflow:Assets written to: /Users/Bobbie/Downloads/BERT/mymodel/2/assets\n"
     ]
    }
   ],
   "source": [
    "model.save('/Users/Bobbie/Downloads/BERT/mymodel/2')"
   ]
  },
  {
   "cell_type": "code",
   "execution_count": null,
   "id": "37360be1-1281-4fc6-af11-82031c44b781",
   "metadata": {},
   "outputs": [],
   "source": []
  },
  {
   "cell_type": "code",
   "execution_count": null,
   "id": "d67c9edf-6b10-413c-9318-f2d4039bcc9b",
   "metadata": {},
   "outputs": [],
   "source": []
  },
  {
   "cell_type": "code",
   "execution_count": null,
   "id": "76711ab6-cb01-492f-84a7-d77bff892c5a",
   "metadata": {},
   "outputs": [],
   "source": []
  }
 ],
 "metadata": {
  "kernelspec": {
   "display_name": "Python 3 (ipykernel)",
   "language": "python",
   "name": "python3"
  },
  "language_info": {
   "codemirror_mode": {
    "name": "ipython",
    "version": 3
   },
   "file_extension": ".py",
   "mimetype": "text/x-python",
   "name": "python",
   "nbconvert_exporter": "python",
   "pygments_lexer": "ipython3",
   "version": "3.9.12"
  }
 },
 "nbformat": 4,
 "nbformat_minor": 5
}
